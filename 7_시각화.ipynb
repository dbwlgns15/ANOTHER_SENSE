{
 "cells": [
  {
   "cell_type": "code",
   "execution_count": 1,
   "id": "4c1a8931",
   "metadata": {},
   "outputs": [],
   "source": [
    "import pandas as pd\n",
    "import numpy as np"
   ]
  },
  {
   "cell_type": "code",
   "execution_count": 41,
   "id": "91c8d643",
   "metadata": {
    "scrolled": false
   },
   "outputs": [
    {
     "data": {
      "text/html": [
       "<div>\n",
       "<style scoped>\n",
       "    .dataframe tbody tr th:only-of-type {\n",
       "        vertical-align: middle;\n",
       "    }\n",
       "\n",
       "    .dataframe tbody tr th {\n",
       "        vertical-align: top;\n",
       "    }\n",
       "\n",
       "    .dataframe thead th {\n",
       "        text-align: right;\n",
       "    }\n",
       "</style>\n",
       "<table border=\"1\" class=\"dataframe\">\n",
       "  <thead>\n",
       "    <tr style=\"text-align: right;\">\n",
       "      <th></th>\n",
       "      <th>날짜</th>\n",
       "      <th>댓글</th>\n",
       "      <th>BERT</th>\n",
       "      <th>LSTM</th>\n",
       "    </tr>\n",
       "  </thead>\n",
       "  <tbody>\n",
       "    <tr>\n",
       "      <th>0</th>\n",
       "      <td>2022-05-30</td>\n",
       "      <td>네이버가 1등 카카오가 2 등이다</td>\n",
       "      <td>0.598076</td>\n",
       "      <td>0.050569</td>\n",
       "    </tr>\n",
       "    <tr>\n",
       "      <th>1</th>\n",
       "      <td>2022-05-30</td>\n",
       "      <td>대붕괴의  시대</td>\n",
       "      <td>0.108117</td>\n",
       "      <td>0.663647</td>\n",
       "    </tr>\n",
       "    <tr>\n",
       "      <th>2</th>\n",
       "      <td>2022-05-30</td>\n",
       "      <td>카카오 상장하나 더하자 5만원 까지 하방...</td>\n",
       "      <td>0.032603</td>\n",
       "      <td>0.000000</td>\n",
       "    </tr>\n",
       "    <tr>\n",
       "      <th>3</th>\n",
       "      <td>2022-05-30</td>\n",
       "      <td>\" 앵두나무 \" 1004 호구들 레버리지...</td>\n",
       "      <td>0.328810</td>\n",
       "      <td>0.050140</td>\n",
       "    </tr>\n",
       "    <tr>\n",
       "      <th>4</th>\n",
       "      <td>2022-05-30</td>\n",
       "      <td>나스닥 장 전체가 10퍼 가까이 오르는데...</td>\n",
       "      <td>0.178061</td>\n",
       "      <td>1.000000</td>\n",
       "    </tr>\n",
       "    <tr>\n",
       "      <th>...</th>\n",
       "      <td>...</td>\n",
       "      <td>...</td>\n",
       "      <td>...</td>\n",
       "      <td>...</td>\n",
       "    </tr>\n",
       "    <tr>\n",
       "      <th>49491</th>\n",
       "      <td>2021-11-01</td>\n",
       "      <td>잡주에 물린게 한이다</td>\n",
       "      <td>0.135482</td>\n",
       "      <td>0.000000</td>\n",
       "    </tr>\n",
       "    <tr>\n",
       "      <th>49492</th>\n",
       "      <td>2021-11-01</td>\n",
       "      <td>외국인기관=쌍끌이양매수~바닥찍고V급등</td>\n",
       "      <td>0.033352</td>\n",
       "      <td>1.000000</td>\n",
       "    </tr>\n",
       "    <tr>\n",
       "      <th>49493</th>\n",
       "      <td>2021-11-01</td>\n",
       "      <td>카카오는 주가부양  대책없냐?</td>\n",
       "      <td>0.099854</td>\n",
       "      <td>0.890823</td>\n",
       "    </tr>\n",
       "    <tr>\n",
       "      <th>49494</th>\n",
       "      <td>2021-11-01</td>\n",
       "      <td>디카르고가 진카입니다</td>\n",
       "      <td>0.877022</td>\n",
       "      <td>0.653434</td>\n",
       "    </tr>\n",
       "    <tr>\n",
       "      <th>49495</th>\n",
       "      <td>2021-11-01</td>\n",
       "      <td>플랫폼 사업이 해외 진출을 기대하 건 개...</td>\n",
       "      <td>0.044399</td>\n",
       "      <td>0.000000</td>\n",
       "    </tr>\n",
       "  </tbody>\n",
       "</table>\n",
       "<p>49496 rows × 4 columns</p>\n",
       "</div>"
      ],
      "text/plain": [
       "               날짜                         댓글      BERT      LSTM\n",
       "0      2022-05-30         네이버가 1등 카카오가 2 등이다  0.598076  0.050569\n",
       "1      2022-05-30                   대붕괴의  시대  0.108117  0.663647\n",
       "2      2022-05-30  카카오 상장하나 더하자 5만원 까지 하방...  0.032603  0.000000\n",
       "3      2022-05-30  \" 앵두나무 \" 1004 호구들 레버리지...  0.328810  0.050140\n",
       "4      2022-05-30  나스닥 장 전체가 10퍼 가까이 오르는데...  0.178061  1.000000\n",
       "...           ...                        ...       ...       ...\n",
       "49491  2021-11-01                잡주에 물린게 한이다  0.135482  0.000000\n",
       "49492  2021-11-01       외국인기관=쌍끌이양매수~바닥찍고V급등  0.033352  1.000000\n",
       "49493  2021-11-01           카카오는 주가부양  대책없냐?  0.099854  0.890823\n",
       "49494  2021-11-01                디카르고가 진카입니다  0.877022  0.653434\n",
       "49495  2021-11-01  플랫폼 사업이 해외 진출을 기대하 건 개...  0.044399  0.000000\n",
       "\n",
       "[49496 rows x 4 columns]"
      ]
     },
     "execution_count": 41,
     "metadata": {},
     "output_type": "execute_result"
    }
   ],
   "source": [
    "df = pd.read_csv('./src/score_kakao_1101.csv')\n",
    "# df = pd.read_csv('./src/score_naver_0301.csv')\n",
    "df"
   ]
  },
  {
   "cell_type": "code",
   "execution_count": 72,
   "id": "57d1c74a",
   "metadata": {
    "scrolled": false
   },
   "outputs": [
    {
     "data": {
      "text/plain": [
       "<AxesSubplot:xlabel='날짜'>"
      ]
     },
     "execution_count": 72,
     "metadata": {},
     "output_type": "execute_result"
    },
    {
     "name": "stderr",
     "output_type": "stream",
     "text": [
      "C:\\ProgramData\\Anaconda3\\lib\\site-packages\\IPython\\core\\pylabtools.py:151: UserWarning: Glyph 45216 (\\N{HANGUL SYLLABLE NAL}) missing from current font.\n",
      "  fig.canvas.print_figure(bytes_io, **kw)\n",
      "C:\\ProgramData\\Anaconda3\\lib\\site-packages\\IPython\\core\\pylabtools.py:151: UserWarning: Glyph 51676 (\\N{HANGUL SYLLABLE JJA}) missing from current font.\n",
      "  fig.canvas.print_figure(bytes_io, **kw)\n"
     ]
    },
    {
     "data": {
      "image/png": "[encoded data removed]",
      "text/plain": [
       "<Figure size 432x288 with 1 Axes>"
      ]
     },
     "metadata": {
      "needs_background": "light"
     },
     "output_type": "display_data"
    }
   ],
   "source": [
    "# BERT LSTM 평균\n",
    "# ((df.groupby('날짜').mean()['BERT']+df.groupby('날짜').mean()['LSTM'])/2).rolling(10).mean().plot()\n",
    "((df.groupby('날짜').mean()['BERT']+df.groupby('날짜').mean()['LSTM'])/2).rolling(7).mean().round(2).plot()"
   ]
  },
  {
   "cell_type": "code",
   "execution_count": 71,
   "id": "f6ac7338",
   "metadata": {},
   "outputs": [
    {
     "data": {
      "text/plain": [
       "<AxesSubplot:xlabel='날짜'>"
      ]
     },
     "execution_count": 71,
     "metadata": {},
     "output_type": "execute_result"
    },
    {
     "name": "stderr",
     "output_type": "stream",
     "text": [
      "C:\\ProgramData\\Anaconda3\\lib\\site-packages\\IPython\\core\\pylabtools.py:151: UserWarning: Glyph 45216 (\\N{HANGUL SYLLABLE NAL}) missing from current font.\n",
      "  fig.canvas.print_figure(bytes_io, **kw)\n",
      "C:\\ProgramData\\Anaconda3\\lib\\site-packages\\IPython\\core\\pylabtools.py:151: UserWarning: Glyph 51676 (\\N{HANGUL SYLLABLE JJA}) missing from current font.\n",
      "  fig.canvas.print_figure(bytes_io, **kw)\n"
     ]
    },
    {
     "data": {
      "image/png": "[encoded data removed]",
      "text/plain": [
       "<Figure size 432x288 with 1 Axes>"
      ]
     },
     "metadata": {
      "needs_background": "light"
     },
     "output_type": "display_data"
    }
   ],
   "source": [
    "# LSTM중심 BERT가중치\n",
    "# (0.5+(df.groupby('날짜').mean()['LSTM']-0.5)*(2+df.groupby('날짜').mean()['BERT'])).rolling(10).mean().plot()\n",
    "(0.5+(df.groupby('날짜').mean()['LSTM']-0.5)*(1+df.groupby('날짜').mean()['BERT'])).rolling(7).mean().round(2).plot()"
   ]
  },
  {
   "cell_type": "code",
   "execution_count": 73,
   "id": "f936cd41",
   "metadata": {},
   "outputs": [
    {
     "data": {
      "text/plain": [
       "<AxesSubplot:xlabel='날짜'>"
      ]
     },
     "execution_count": 73,
     "metadata": {},
     "output_type": "execute_result"
    },
    {
     "name": "stderr",
     "output_type": "stream",
     "text": [
      "C:\\ProgramData\\Anaconda3\\lib\\site-packages\\IPython\\core\\pylabtools.py:151: UserWarning: Glyph 45216 (\\N{HANGUL SYLLABLE NAL}) missing from current font.\n",
      "  fig.canvas.print_figure(bytes_io, **kw)\n",
      "C:\\ProgramData\\Anaconda3\\lib\\site-packages\\IPython\\core\\pylabtools.py:151: UserWarning: Glyph 51676 (\\N{HANGUL SYLLABLE JJA}) missing from current font.\n",
      "  fig.canvas.print_figure(bytes_io, **kw)\n"
     ]
    },
    {
     "data": {
      "image/png": "[encoded data removed]",
      "text/plain": [
       "<Figure size 432x288 with 1 Axes>"
      ]
     },
     "metadata": {
      "needs_background": "light"
     },
     "output_type": "display_data"
    }
   ],
   "source": [
    "df.groupby('날짜').mean().rolling(7).mean().round(2).plot()"
   ]
  },
  {
   "cell_type": "code",
   "execution_count": 7,
   "id": "e584a454",
   "metadata": {},
   "outputs": [
    {
     "data": {
      "text/plain": [
       "<AxesSubplot:xlabel='날짜'>"
      ]
     },
     "execution_count": 7,
     "metadata": {},
     "output_type": "execute_result"
    },
    {
     "name": "stderr",
     "output_type": "stream",
     "text": [
      "C:\\ProgramData\\Anaconda3\\lib\\site-packages\\IPython\\core\\pylabtools.py:151: UserWarning: Glyph 45216 (\\N{HANGUL SYLLABLE NAL}) missing from current font.\n",
      "  fig.canvas.print_figure(bytes_io, **kw)\n",
      "C:\\ProgramData\\Anaconda3\\lib\\site-packages\\IPython\\core\\pylabtools.py:151: UserWarning: Glyph 51676 (\\N{HANGUL SYLLABLE JJA}) missing from current font.\n",
      "  fig.canvas.print_figure(bytes_io, **kw)\n"
     ]
    },
    {
     "data": {
      "image/png": "[encoded data removed]",
      "text/plain": [
       "<Figure size 432x288 with 1 Axes>"
      ]
     },
     "metadata": {
      "needs_background": "light"
     },
     "output_type": "display_data"
    }
   ],
   "source": [
    "df.groupby('날짜').mean().plot()"
   ]
  },
  {
   "cell_type": "code",
   "execution_count": 41,
   "id": "0194bbc3",
   "metadata": {},
   "outputs": [],
   "source": [
    "import pandas as pd\n",
    "import numpy as np\n",
    "import re\n",
    "import pickle\n",
    "import requests\n",
    "from bs4 import BeautifulSoup\n",
    "from datetime import date\n",
    "from konlpy.tag import Okt\n",
    "from tensorflow.keras.preprocessing.text import Tokenizer\n",
    "from tensorflow.keras.preprocessing.sequence import pad_sequences\n",
    "from tensorflow.keras.models import load_model\n",
    "import warnings\n",
    "warnings.filterwarnings('ignore')\n",
    "\n",
    "def konlpy_okt(df):\n",
    "    okt = Okt()\n",
    "    tag_list = ['Noun','Verb','Adjective','VerbPrefix'] \n",
    "    comment_list = df['댓글'].to_list()\n",
    "    tokenized_data = []\n",
    "    for i in range(len(comment_list)):\n",
    "        tokenized_sentence = okt.pos(str(comment_list[i]), stem=True) \n",
    "        tag_checked_sentence = []\n",
    "        for j in tokenized_sentence:\n",
    "            x,y = j\n",
    "            if y in tag_list:\n",
    "                tag_checked_sentence.append(x)\n",
    "        tokenized_data.append(tag_checked_sentence)   \n",
    "        print(f'\\r{i+1}개 형태소분리중',end='')\n",
    "    for i in tokenized_data:\n",
    "        for j in range(len(i)):\n",
    "            i[j] = \"'\"+i[j]+\"'\"\n",
    "    return tokenized_data\n",
    "    \n",
    "def tokenize(df):\n",
    "    tokenized_data = konlpy_okt(df)\n",
    "    test = tokenizer.texts_to_sequences(tokenized_data)\n",
    "    test = pad_sequences(test, maxlen=15)\n",
    "    return test\n",
    "\n",
    "def feargreed_indexx(df): \n",
    "    test = tokenize(df)\n",
    "    pred = model.predict(test)\n",
    "    return pred"
   ]
  },
  {
   "cell_type": "code",
   "execution_count": 46,
   "id": "5173af88",
   "metadata": {},
   "outputs": [
    {
     "name": "stdout",
     "output_type": "stream",
     "text": [
      "9433개 형태소분리중"
     ]
    },
    {
     "data": {
      "text/html": [
       "<div>\n",
       "<style scoped>\n",
       "    .dataframe tbody tr th:only-of-type {\n",
       "        vertical-align: middle;\n",
       "    }\n",
       "\n",
       "    .dataframe tbody tr th {\n",
       "        vertical-align: top;\n",
       "    }\n",
       "\n",
       "    .dataframe thead th {\n",
       "        text-align: right;\n",
       "    }\n",
       "</style>\n",
       "<table border=\"1\" class=\"dataframe\">\n",
       "  <thead>\n",
       "    <tr style=\"text-align: right;\">\n",
       "      <th></th>\n",
       "      <th>날짜</th>\n",
       "      <th>댓글</th>\n",
       "      <th>BERT</th>\n",
       "      <th>LSTM</th>\n",
       "    </tr>\n",
       "  </thead>\n",
       "  <tbody>\n",
       "    <tr>\n",
       "      <th>0</th>\n",
       "      <td>2022-05-29</td>\n",
       "      <td>굿</td>\n",
       "      <td>0.943010</td>\n",
       "      <td>0.301843</td>\n",
       "    </tr>\n",
       "    <tr>\n",
       "      <th>1</th>\n",
       "      <td>2022-05-29</td>\n",
       "      <td>도대체왜 걸어다니면서 담배피는거냐?니들은...</td>\n",
       "      <td>0.055868</td>\n",
       "      <td>0.229988</td>\n",
       "    </tr>\n",
       "    <tr>\n",
       "      <th>2</th>\n",
       "      <td>2022-05-29</td>\n",
       "      <td>쇼핑업계 손절한 `빠른배송`…네이버는 어...</td>\n",
       "      <td>0.210454</td>\n",
       "      <td>0.000000</td>\n",
       "    </tr>\n",
       "    <tr>\n",
       "      <th>3</th>\n",
       "      <td>2022-05-29</td>\n",
       "      <td>낼 상한가...</td>\n",
       "      <td>0.227119</td>\n",
       "      <td>1.000000</td>\n",
       "    </tr>\n",
       "    <tr>\n",
       "      <th>4</th>\n",
       "      <td>2022-05-29</td>\n",
       "      <td>낼폭등</td>\n",
       "      <td>0.069681</td>\n",
       "      <td>1.000000</td>\n",
       "    </tr>\n",
       "    <tr>\n",
       "      <th>...</th>\n",
       "      <td>...</td>\n",
       "      <td>...</td>\n",
       "      <td>...</td>\n",
       "      <td>...</td>\n",
       "    </tr>\n",
       "    <tr>\n",
       "      <th>9428</th>\n",
       "      <td>2022-03-01</td>\n",
       "      <td>어르신들 .</td>\n",
       "      <td>0.404791</td>\n",
       "      <td>0.030063</td>\n",
       "    </tr>\n",
       "    <tr>\n",
       "      <th>9429</th>\n",
       "      <td>2022-03-01</td>\n",
       "      <td>차트는 좋네</td>\n",
       "      <td>0.153072</td>\n",
       "      <td>1.000000</td>\n",
       "    </tr>\n",
       "    <tr>\n",
       "      <th>9430</th>\n",
       "      <td>2022-03-01</td>\n",
       "      <td>[잘쳐먹고잘산다는미명하에 온갖곳에 악질이...</td>\n",
       "      <td>0.706786</td>\n",
       "      <td>1.000000</td>\n",
       "    </tr>\n",
       "    <tr>\n",
       "      <th>9431</th>\n",
       "      <td>2022-03-01</td>\n",
       "      <td>●●●● 찢재명,,, 왈 ~~</td>\n",
       "      <td>0.845221</td>\n",
       "      <td>0.104308</td>\n",
       "    </tr>\n",
       "    <tr>\n",
       "      <th>9432</th>\n",
       "      <td>2022-03-01</td>\n",
       "      <td>정권교체해도 바뀌...</td>\n",
       "      <td>0.201146</td>\n",
       "      <td>0.104928</td>\n",
       "    </tr>\n",
       "  </tbody>\n",
       "</table>\n",
       "<p>9433 rows × 4 columns</p>\n",
       "</div>"
      ],
      "text/plain": [
       "              날짜                         댓글      BERT      LSTM\n",
       "0     2022-05-29                          굿  0.943010  0.301843\n",
       "1     2022-05-29  도대체왜 걸어다니면서 담배피는거냐?니들은...  0.055868  0.229988\n",
       "2     2022-05-29  쇼핑업계 손절한 `빠른배송`…네이버는 어...  0.210454  0.000000\n",
       "3     2022-05-29                   낼 상한가...  0.227119  1.000000\n",
       "4     2022-05-29                        낼폭등  0.069681  1.000000\n",
       "...          ...                        ...       ...       ...\n",
       "9428  2022-03-01                     어르신들 .  0.404791  0.030063\n",
       "9429  2022-03-01                     차트는 좋네  0.153072  1.000000\n",
       "9430  2022-03-01  [잘쳐먹고잘산다는미명하에 온갖곳에 악질이...  0.706786  1.000000\n",
       "9431  2022-03-01           ●●●● 찢재명,,, 왈 ~~  0.845221  0.104308\n",
       "9432  2022-03-01               정권교체해도 바뀌...  0.201146  0.104928\n",
       "\n",
       "[9433 rows x 4 columns]"
      ]
     },
     "execution_count": 46,
     "metadata": {},
     "output_type": "execute_result"
    }
   ],
   "source": [
    "df['LSTM'] = feargreed_indexx(df)\n",
    "df['LSTM'] = df['LSTM'].round(6)\n",
    "df = df.reset_index(drop=True)\n",
    "df"
   ]
  },
  {
   "cell_type": "code",
   "execution_count": 42,
   "id": "ea600dc0",
   "metadata": {},
   "outputs": [],
   "source": [
    "# LSTM 토크나이저\n",
    "with open('./src/lstm/goodtokenizer.pickle', 'rb') as handle:\n",
    "    tokenizer = pickle.load(handle)  \n",
    "# LSTM 모델\n",
    "model = load_model('./src/lstm/goodmodel.h5')"
   ]
  },
  {
   "cell_type": "code",
   "execution_count": 43,
   "id": "5aaa83be",
   "metadata": {},
   "outputs": [
    {
     "data": {
      "text/html": [
       "<div>\n",
       "<style scoped>\n",
       "    .dataframe tbody tr th:only-of-type {\n",
       "        vertical-align: middle;\n",
       "    }\n",
       "\n",
       "    .dataframe tbody tr th {\n",
       "        vertical-align: top;\n",
       "    }\n",
       "\n",
       "    .dataframe thead th {\n",
       "        text-align: right;\n",
       "    }\n",
       "</style>\n",
       "<table border=\"1\" class=\"dataframe\">\n",
       "  <thead>\n",
       "    <tr style=\"text-align: right;\">\n",
       "      <th></th>\n",
       "      <th>날짜</th>\n",
       "      <th>댓글</th>\n",
       "      <th>BERT</th>\n",
       "      <th>LSTM</th>\n",
       "    </tr>\n",
       "  </thead>\n",
       "  <tbody>\n",
       "    <tr>\n",
       "      <th>0</th>\n",
       "      <td>2022-05-29</td>\n",
       "      <td>굿</td>\n",
       "      <td>0.943010</td>\n",
       "      <td>0.002760</td>\n",
       "    </tr>\n",
       "    <tr>\n",
       "      <th>1</th>\n",
       "      <td>2022-05-29</td>\n",
       "      <td>도대체왜 걸어다니면서 담배피는거냐?니들은...</td>\n",
       "      <td>0.055868</td>\n",
       "      <td>0.003480</td>\n",
       "    </tr>\n",
       "    <tr>\n",
       "      <th>2</th>\n",
       "      <td>2022-05-29</td>\n",
       "      <td>쇼핑업계 손절한 `빠른배송`…네이버는 어...</td>\n",
       "      <td>0.210454</td>\n",
       "      <td>0.000000</td>\n",
       "    </tr>\n",
       "    <tr>\n",
       "      <th>3</th>\n",
       "      <td>2022-05-29</td>\n",
       "      <td>낼 상한가...</td>\n",
       "      <td>0.227119</td>\n",
       "      <td>0.999998</td>\n",
       "    </tr>\n",
       "    <tr>\n",
       "      <th>4</th>\n",
       "      <td>2022-05-29</td>\n",
       "      <td>낼폭등</td>\n",
       "      <td>0.069681</td>\n",
       "      <td>0.999996</td>\n",
       "    </tr>\n",
       "    <tr>\n",
       "      <th>...</th>\n",
       "      <td>...</td>\n",
       "      <td>...</td>\n",
       "      <td>...</td>\n",
       "      <td>...</td>\n",
       "    </tr>\n",
       "    <tr>\n",
       "      <th>9428</th>\n",
       "      <td>2022-03-01</td>\n",
       "      <td>어르신들 .</td>\n",
       "      <td>0.404791</td>\n",
       "      <td>0.002084</td>\n",
       "    </tr>\n",
       "    <tr>\n",
       "      <th>9429</th>\n",
       "      <td>2022-03-01</td>\n",
       "      <td>차트는 좋네</td>\n",
       "      <td>0.153072</td>\n",
       "      <td>0.999999</td>\n",
       "    </tr>\n",
       "    <tr>\n",
       "      <th>9430</th>\n",
       "      <td>2022-03-01</td>\n",
       "      <td>[잘쳐먹고잘산다는미명하에 온갖곳에 악질이...</td>\n",
       "      <td>0.706786</td>\n",
       "      <td>0.999999</td>\n",
       "    </tr>\n",
       "    <tr>\n",
       "      <th>9431</th>\n",
       "      <td>2022-03-01</td>\n",
       "      <td>●●●● 찢재명,,, 왈 ~~</td>\n",
       "      <td>0.845221</td>\n",
       "      <td>0.013839</td>\n",
       "    </tr>\n",
       "    <tr>\n",
       "      <th>9432</th>\n",
       "      <td>2022-03-01</td>\n",
       "      <td>정권교체해도 바뀌...</td>\n",
       "      <td>0.201146</td>\n",
       "      <td>0.003427</td>\n",
       "    </tr>\n",
       "  </tbody>\n",
       "</table>\n",
       "<p>9433 rows × 4 columns</p>\n",
       "</div>"
      ],
      "text/plain": [
       "              날짜                         댓글      BERT      LSTM\n",
       "0     2022-05-29                          굿  0.943010  0.002760\n",
       "1     2022-05-29  도대체왜 걸어다니면서 담배피는거냐?니들은...  0.055868  0.003480\n",
       "2     2022-05-29  쇼핑업계 손절한 `빠른배송`…네이버는 어...  0.210454  0.000000\n",
       "3     2022-05-29                   낼 상한가...  0.227119  0.999998\n",
       "4     2022-05-29                        낼폭등  0.069681  0.999996\n",
       "...          ...                        ...       ...       ...\n",
       "9428  2022-03-01                     어르신들 .  0.404791  0.002084\n",
       "9429  2022-03-01                     차트는 좋네  0.153072  0.999999\n",
       "9430  2022-03-01  [잘쳐먹고잘산다는미명하에 온갖곳에 악질이...  0.706786  0.999999\n",
       "9431  2022-03-01           ●●●● 찢재명,,, 왈 ~~  0.845221  0.013839\n",
       "9432  2022-03-01               정권교체해도 바뀌...  0.201146  0.003427\n",
       "\n",
       "[9433 rows x 4 columns]"
      ]
     },
     "execution_count": 43,
     "metadata": {},
     "output_type": "execute_result"
    }
   ],
   "source": [
    "df = pd.read_csv('./src/score_naver_0301.csv')\n",
    "df"
   ]
  },
  {
   "cell_type": "code",
   "execution_count": 44,
   "id": "b6377d12",
   "metadata": {},
   "outputs": [],
   "source": [
    "del df['LSTM']"
   ]
  },
  {
   "cell_type": "code",
   "execution_count": 51,
   "id": "4419e3e8",
   "metadata": {},
   "outputs": [],
   "source": [
    "df.to_csv('./src/score_naver_0301.csv',index=False)"
   ]
  },
  {
   "cell_type": "code",
   "execution_count": 2,
   "id": "06fce6d2",
   "metadata": {},
   "outputs": [
    {
     "data": {
      "text/html": [
       "<div>\n",
       "<style scoped>\n",
       "    .dataframe tbody tr th:only-of-type {\n",
       "        vertical-align: middle;\n",
       "    }\n",
       "\n",
       "    .dataframe tbody tr th {\n",
       "        vertical-align: top;\n",
       "    }\n",
       "\n",
       "    .dataframe thead th {\n",
       "        text-align: right;\n",
       "    }\n",
       "</style>\n",
       "<table border=\"1\" class=\"dataframe\">\n",
       "  <thead>\n",
       "    <tr style=\"text-align: right;\">\n",
       "      <th></th>\n",
       "      <th>날짜</th>\n",
       "      <th>제목</th>\n",
       "      <th>정보제공</th>\n",
       "      <th>링크</th>\n",
       "      <th>기사</th>\n",
       "    </tr>\n",
       "  </thead>\n",
       "  <tbody>\n",
       "    <tr>\n",
       "      <th>0</th>\n",
       "      <td>2022-04-29</td>\n",
       "      <td>\"미래 푸드테크, 삼성·SK·네이버·카카오도 진출할 것\"</td>\n",
       "      <td>머니투데이</td>\n",
       "      <td>https://finance.naver.com/item/news_read.naver...</td>\n",
       "      <td>\\n\\t\\t\\t [[2022 키플랫폼]이기원 서울대 푸드테크학과장]이기원 서울대학교...</td>\n",
       "    </tr>\n",
       "    <tr>\n",
       "      <th>1</th>\n",
       "      <td>2022-04-29</td>\n",
       "      <td>‘상생 행보’ 카카오…중기유통센터 손잡고 소상공인 지원</td>\n",
       "      <td>이코노미스트</td>\n",
       "      <td>https://finance.naver.com/item/news_read.naver...</td>\n",
       "      <td>\\n소상공인 지원 프로그램 ‘톡스토어X판판대로 과정’ 오픈     톡스토어X판판대로...</td>\n",
       "    </tr>\n",
       "    <tr>\n",
       "      <th>2</th>\n",
       "      <td>2022-04-29</td>\n",
       "      <td>소상공인 파트너와 성장하는 ‘톡스토어’..카카오</td>\n",
       "      <td>파이낸셜뉴스</td>\n",
       "      <td>https://finance.naver.com/item/news_read.naver...</td>\n",
       "      <td>\\n카카오톡 쇼핑하기, 중소기업유통센터와 협업소상공인 판매자 위한 교육지원 프로그램...</td>\n",
       "    </tr>\n",
       "    <tr>\n",
       "      <th>3</th>\n",
       "      <td>2022-04-28</td>\n",
       "      <td>\"카카오·네이버보다도 못하다고?\"…삼성맨들 '부글부글'</td>\n",
       "      <td>한국경제</td>\n",
       "      <td>https://finance.naver.com/item/news_read.naver...</td>\n",
       "      <td>\\n삼성전자, 연봉인상률 9% 논의노사협의회, 임금 협상 진행 상황 공지카카오 15...</td>\n",
       "    </tr>\n",
       "    <tr>\n",
       "      <th>4</th>\n",
       "      <td>2022-04-28</td>\n",
       "      <td>2040년까지 탄소 순 배출량 '0' 만든다…카카오 '넷 제로' 원칙 ...</td>\n",
       "      <td>이코노미스트</td>\n",
       "      <td>https://finance.naver.com/item/news_read.naver...</td>\n",
       "      <td>\\n환경 문제 해결하기 위한 '액티브 그린 이니셔티브' 공개카카오 탄소 지수로 이행...</td>\n",
       "    </tr>\n",
       "    <tr>\n",
       "      <th>...</th>\n",
       "      <td>...</td>\n",
       "      <td>...</td>\n",
       "      <td>...</td>\n",
       "      <td>...</td>\n",
       "      <td>...</td>\n",
       "    </tr>\n",
       "    <tr>\n",
       "      <th>5571</th>\n",
       "      <td>2021-05-03</td>\n",
       "      <td>카카오-카카오커머스, ‘톡스토어 판매자’ 키운다</td>\n",
       "      <td>파이낸셜뉴스</td>\n",
       "      <td>https://finance.naver.com/item/news_read.naver...</td>\n",
       "      <td>\\n‘톡스토어 판매자 양성과정’ 참가자 1200명제주도 등 전국 6개 창조경제혁신센...</td>\n",
       "    </tr>\n",
       "    <tr>\n",
       "      <th>5572</th>\n",
       "      <td>2021-05-03</td>\n",
       "      <td>카카오·카카오커머스, '톡스토어' 판매자 양성 과정 진행</td>\n",
       "      <td>서울경제</td>\n",
       "      <td>https://finance.naver.com/item/news_read.naver...</td>\n",
       "      <td>\\n\\t\\t\\t [서울경제] 카카오와 카카오커머스는 전국 6개 창조경제혁신센터와 손...</td>\n",
       "    </tr>\n",
       "    <tr>\n",
       "      <th>5573</th>\n",
       "      <td>2021-05-01</td>\n",
       "      <td>KT와 카카오의 공유자전거 힘겨루기…T바이크에 타조 맞불</td>\n",
       "      <td>매일경제</td>\n",
       "      <td>https://finance.naver.com/item/news_read.naver...</td>\n",
       "      <td>\\n카카오모빌리티에서 운영하는 카카오T바이크 [매경DB] 바야흐로 공유자전거 전성시...</td>\n",
       "    </tr>\n",
       "    <tr>\n",
       "      <th>5574</th>\n",
       "      <td>2021-04-30</td>\n",
       "      <td>네이버 오른다는데…공매도 타깃된 카카오 \"나 떨고있니?\"</td>\n",
       "      <td>머니투데이</td>\n",
       "      <td>https://finance.naver.com/item/news_read.naver...</td>\n",
       "      <td>\\n\\t\\t\\t [머니투데이 구단비 기자] [[오늘의 포인트]]/사진제공=네이버오는...</td>\n",
       "    </tr>\n",
       "    <tr>\n",
       "      <th>5575</th>\n",
       "      <td>2021-04-30</td>\n",
       "      <td>카카오내비, ‘방문 정비’ 시작 “주행분석까지 한다”</td>\n",
       "      <td>파이낸셜뉴스</td>\n",
       "      <td>https://finance.naver.com/item/news_read.naver...</td>\n",
       "      <td>\\n방문 세차-전기차 충전에 이어 ‘방문 정비' 서비스‘내비 운행 리포트’ 리뉴얼,...</td>\n",
       "    </tr>\n",
       "  </tbody>\n",
       "</table>\n",
       "<p>5576 rows × 5 columns</p>\n",
       "</div>"
      ],
      "text/plain": [
       "              날짜                                          제목    정보제공  \\\n",
       "0     2022-04-29             \"미래 푸드테크, 삼성·SK·네이버·카카오도 진출할 것\"   머니투데이   \n",
       "1     2022-04-29              ‘상생 행보’ 카카오…중기유통센터 손잡고 소상공인 지원  이코노미스트   \n",
       "2     2022-04-29                  소상공인 파트너와 성장하는 ‘톡스토어’..카카오  파이낸셜뉴스   \n",
       "3     2022-04-28              \"카카오·네이버보다도 못하다고?\"…삼성맨들 '부글부글'    한국경제   \n",
       "4     2022-04-28  2040년까지 탄소 순 배출량 '0' 만든다…카카오 '넷 제로' 원칙 ...  이코노미스트   \n",
       "...          ...                                         ...     ...   \n",
       "5571  2021-05-03                  카카오-카카오커머스, ‘톡스토어 판매자’ 키운다  파이낸셜뉴스   \n",
       "5572  2021-05-03             카카오·카카오커머스, '톡스토어' 판매자 양성 과정 진행    서울경제   \n",
       "5573  2021-05-01             KT와 카카오의 공유자전거 힘겨루기…T바이크에 타조 맞불    매일경제   \n",
       "5574  2021-04-30             네이버 오른다는데…공매도 타깃된 카카오 \"나 떨고있니?\"   머니투데이   \n",
       "5575  2021-04-30               카카오내비, ‘방문 정비’ 시작 “주행분석까지 한다”  파이낸셜뉴스   \n",
       "\n",
       "                                                     링크  \\\n",
       "0     https://finance.naver.com/item/news_read.naver...   \n",
       "1     https://finance.naver.com/item/news_read.naver...   \n",
       "2     https://finance.naver.com/item/news_read.naver...   \n",
       "3     https://finance.naver.com/item/news_read.naver...   \n",
       "4     https://finance.naver.com/item/news_read.naver...   \n",
       "...                                                 ...   \n",
       "5571  https://finance.naver.com/item/news_read.naver...   \n",
       "5572  https://finance.naver.com/item/news_read.naver...   \n",
       "5573  https://finance.naver.com/item/news_read.naver...   \n",
       "5574  https://finance.naver.com/item/news_read.naver...   \n",
       "5575  https://finance.naver.com/item/news_read.naver...   \n",
       "\n",
       "                                                     기사  \n",
       "0     \\n\\t\\t\\t [[2022 키플랫폼]이기원 서울대 푸드테크학과장]이기원 서울대학교...  \n",
       "1     \\n소상공인 지원 프로그램 ‘톡스토어X판판대로 과정’ 오픈     톡스토어X판판대로...  \n",
       "2     \\n카카오톡 쇼핑하기, 중소기업유통센터와 협업소상공인 판매자 위한 교육지원 프로그램...  \n",
       "3     \\n삼성전자, 연봉인상률 9% 논의노사협의회, 임금 협상 진행 상황 공지카카오 15...  \n",
       "4     \\n환경 문제 해결하기 위한 '액티브 그린 이니셔티브' 공개카카오 탄소 지수로 이행...  \n",
       "...                                                 ...  \n",
       "5571  \\n‘톡스토어 판매자 양성과정’ 참가자 1200명제주도 등 전국 6개 창조경제혁신센...  \n",
       "5572  \\n\\t\\t\\t [서울경제] 카카오와 카카오커머스는 전국 6개 창조경제혁신센터와 손...  \n",
       "5573  \\n카카오모빌리티에서 운영하는 카카오T바이크 [매경DB] 바야흐로 공유자전거 전성시...  \n",
       "5574  \\n\\t\\t\\t [머니투데이 구단비 기자] [[오늘의 포인트]]/사진제공=네이버오는...  \n",
       "5575  \\n방문 세차-전기차 충전에 이어 ‘방문 정비' 서비스‘내비 운행 리포트’ 리뉴얼,...  \n",
       "\n",
       "[5576 rows x 5 columns]"
      ]
     },
     "execution_count": 2,
     "metadata": {},
     "output_type": "execute_result"
    }
   ],
   "source": [
    "import pandas as pd\n",
    "x = pd.read_csv('./a.csv')\n",
    "x"
   ]
  },
  {
   "cell_type": "code",
   "execution_count": null,
   "id": "30dc4d98",
   "metadata": {},
   "outputs": [],
   "source": []
  }
 ],
 "metadata": {
  "kernelspec": {
   "display_name": "Python 3 (ipykernel)",
   "language": "python",
   "name": "python3"
  },
  "language_info": {
   "codemirror_mode": {
    "name": "ipython",
    "version": 3
   },
   "file_extension": ".py",
   "mimetype": "text/x-python",
   "name": "python",
   "nbconvert_exporter": "python",
   "pygments_lexer": "ipython3",
   "version": "3.9.7"
  }
 },
 "nbformat": 4,
 "nbformat_minor": 5
}
