{
 "cells": [
  {
   "cell_type": "code",
   "execution_count": 1,
   "id": "0c3f50c3",
   "metadata": {},
   "outputs": [],
   "source": [
    "import pandas as pd\n",
    "import numpy as np\n",
    "import re\n",
    "from collections import Counter\n",
    "\n",
    "import warnings\n",
    "warnings.filterwarnings('ignore')"
   ]
  },
  {
   "cell_type": "code",
   "execution_count": 140,
   "id": "63f970b3",
   "metadata": {
    "scrolled": true
   },
   "outputs": [],
   "source": [
    "kakao_df = pd.read_csv('./src/네이버종토방댓글_카카오_7500.csv')\n",
    "samsung_df = pd.read_csv('./src/네이버종토방댓글_삼성전자_10000.csv')"
   ]
  },
  {
   "cell_type": "code",
   "execution_count": 141,
   "id": "775c8998",
   "metadata": {
    "scrolled": false
   },
   "outputs": [],
   "source": [
    "co_list = kakao_df['댓글'].to_list() + samsung_df['댓글'].to_list()\n",
    "cho_list = []\n",
    "for i in co_list:\n",
    "    a = str(i)\n",
    "    a = re.sub('[^ㄱ-ㅎ]',' ',a)\n",
    "    a = re.sub(' +',' ',a)\n",
    "    a = a.strip()\n",
    "    cho_list += a.split()"
   ]
  },
  {
   "cell_type": "code",
   "execution_count": 142,
   "id": "068b0c17",
   "metadata": {},
   "outputs": [],
   "source": [
    "for i in range(len(cho_list)):\n",
    "    cho_list[i] = re.sub('ㄱ+|ㄲ','ㄱ',cho_list[i])\n",
    "    cho_list[i] = re.sub('ㄴ+','ㄴ',cho_list[i])\n",
    "    cho_list[i] = re.sub('ㄷ+','ㄷ',cho_list[i])\n",
    "    cho_list[i] = re.sub('ㅂ+','ㅂ',cho_list[i])\n",
    "    cho_list[i] = re.sub('ㅅ+','ㅅ',cho_list[i])\n",
    "    cho_list[i] = re.sub('ㅇ+','ㅇ',cho_list[i])\n",
    "    cho_list[i] = re.sub('ㅋ+','ㅋ',cho_list[i])\n",
    "    cho_list[i] = re.sub('ㅎ+','ㅎ',cho_list[i])\n",
    "    cho_list[i] = re.sub('ㅌ+','ㅌ',cho_list[i])\n",
    "    cho_list[i] = re.sub('ㅊ+','ㅊ',cho_list[i])\n",
    "    cho_list[i] = re.sub('ㅉ+','ㅉ',cho_list[i])\n",
    "    cho_list[i] = re.sub('ㅇ+','ㅇ',cho_list[i])"
   ]
  },
  {
   "cell_type": "code",
   "execution_count": 143,
   "id": "48266150",
   "metadata": {},
   "outputs": [],
   "source": [
    "for i in range(len(cho_list)):\n",
    "    cho_list[i] = re.sub('ㅅㅂㄴ|ㅅㅂㄹ|ㅋ?ㅅㅂㅋ?|ㅋ?ㅅㅍㅋ?|(ㅅㅂ)+','시발',cho_list[i])\n",
    "    cho_list[i] = re.sub('ㅈㄴ','지랄',cho_list[i])   \n",
    "    cho_list[i] = re.sub('ㅄ|ㅂㅅ','병신',cho_list[i])\n",
    "    cho_list[i] = re.sub('ㅇㅈㄹ|ㄱㅈㄹ|ㅈㄹ','지랄',cho_list[i])\n",
    "    cho_list[i] = re.sub('ㅎㄷ','후덜덜',cho_list[i])\n",
    "    cho_list[i] = re.sub('ㅅㄲ|ㅅㅋ|ㅆㄲ','새끼',cho_list[i])\n",
    "    cho_list[i] = re.sub('(ㅊㅋ)+','추카',cho_list[i])\n",
    "    cho_list[i] = re.sub('ㄹㅇ','레알',cho_list[i])\n",
    "    cho_list[i] = re.sub('ㅁㅊㄴ|(ㅁㅊ)+','미친',cho_list[i])\n",
    "    cho_list[i] = re.sub('ㅅㄱㅇ|(ㅅㄱ)+','수고',cho_list[i])\n",
    "    cho_list[i] = re.sub('ㄳ|ㄱㅅ','감사',cho_list[i])\n",
    "    cho_list[i] = re.sub('ㅆㄺ|ㅆㄹㄱ','쓰레기',cho_list[i])\n",
    "    cho_list[i] = re.sub('ㅇㅈ','인정',cho_list[i])"
   ]
  },
  {
   "cell_type": "code",
   "execution_count": 144,
   "id": "dd81f845",
   "metadata": {},
   "outputs": [],
   "source": [
    "for i in range(len(cho_list)):\n",
    "    if len(cho_list[i]) == 1:\n",
    "        cho_list[i] = re.sub('ㄱ','고고',cho_list[i])\n",
    "        cho_list[i] = re.sub('ㄴ','노노',cho_list[i])\n",
    "        cho_list[i] = re.sub('ㄷ','덜덜',cho_list[i])\n",
    "        cho_list[i] = re.sub('ㅂ','바바',cho_list[i])\n",
    "        cho_list[i] = re.sub('ㅅ','샷샷',cho_list[i])\n",
    "        cho_list[i] = re.sub('ㅇ','응응',cho_list[i])\n",
    "        cho_list[i] = re.sub('ㅋ','키키',cho_list[i])\n",
    "        cho_list[i] = re.sub('ㅎ','히히',cho_list[i])\n",
    "        cho_list[i] = re.sub('ㅌ','튀튀',cho_list[i])\n",
    "        cho_list[i] = re.sub('ㅉ','쯧쯧',cho_list[i])\n",
    "        cho_list[i] = re.sub('ㅊ','추카',cho_list[i])\n",
    "        cho_list[i] = re.sub('ㅈ','좃',cho_list[i])\n",
    "        cho_list[i] = re.sub('ㅆ','썅',cho_list[i])"
   ]
  },
  {
   "cell_type": "code",
   "execution_count": 145,
   "id": "683e63ec",
   "metadata": {},
   "outputs": [
    {
     "name": "stdout",
     "output_type": "stream",
     "text": [
      "Counter({'키키': 14460, '히히': 1898, '덜덜': 1085, '응응': 1032, '고고': 624, '좃': 545, '시발': 441, '샷샷': 400, '쯧쯧': 250, '노노': 244, '지랄': 228, '바바': 207, 'ㄹ': 187, '썅': 112, '추카': 112, '병신': 107, 'ㅁ': 105, '수고': 96, '레알': 82, '튀튀': 79, '후덜덜': 75, '미친': 49, 'ㅍ': 44, '인정': 39, 'ㅋㄱ': 38, 'ㄷㅅ': 33, 'ㄸ': 32, '새끼': 25, 'ㅋㅇ': 22, 'ㅋㄱㅋ': 22, '쓰레기': 21, '감사': 18, 'ㅍㅎ': 16, '인정ㅇ': 16, 'ㅋㅌ': 14, 'ㅋㅎ': 12, 'ㅇㅋ': 12, 'ㅇㅅㅇ': 12, 'ㅎㅇ': 11, 'ㄱㄱ': 11, 'ㅃ': 11, 'ㅌㅋ': 10, 'ㅆㄹ': 10, 'ㅆㄱ': 9, 'ㅋㄷㅋㄷ': 9, 'ㄱㅁ': 9, 'ㅂㄷㅂㄷ': 9, 'ㅎㄱ': 8, 'ㅈㅅ': 8, 'ㄱㅊ': 8, 'ㅋㄱㅋㄱ': 8, 'ㅈㅈ': 7, 'ㅇㄷ': 7, 'ㅋㄷ': 7, 'ㅎㅋ': 6, 'ㅇㄱ': 6, 'ㅋㅌㅋ': 5, 'ㄱㅈㅇ': 5, 'ㅇㅅ': 5, 'ㄱㅋ': 5, 'ㅂㄹ': 5, 'ㅂㅇ': 5, 'ㅂㅈ': 5, 'ㄹㅈㄷ': 4, 'ㅆㅃ': 4, 'ㅈㅂ': 4, 'ㄴㅁㄹ': 4, 'ㄴㄱㅁ': 4, '레알ㅋ': 4, 'ㄱㅂ': 4, 'ㅈㄸㄷ': 4, 'ㅇㄱㄹ': 4, 'ㅇㅂ': 4, 'ㅈㄱ': 3, 'ㅇㄴ': 3, 'ㄷㅊ': 3, '수고ㄷ': 3, 'ㅃㅇ': 3, 'ㄴㅁ': 3, 'ㅋ인정': 3, 'ㅇㅁ': 3, 'ㅋㅈ': 3, 'ㅋ수고': 3, 'ㄱㅈ': 3, 'ㅎㅅㅎ': 3, 'ㅋㅈㅋ': 3, 'ㅈㄷ': 3, 'ㅅㅇ': 3, 'ㄱㅇㄷ': 3, 'ㅋㅂㅋ': 3, 'ㄷㄱ': 3, '병신ㄷ': 3, '병신ㄱㅁ': 3, '인정ㅁ': 3, 'ㅉㄱ': 3, 'ㅊㅈㅁ': 3, 'ㅇ병신ㅌ': 3, 'ㅊㅅㅇㅅㅎ': 3, 'ㄱㅆ': 2, 'ㄱ수고': 2, 'ㅋ지랄': 2, 'ㄴㅇㅅ': 2, 'ㄱㄴㄷ': 2, 'ㄱ시발': 2, 'ㅍㅍㅁㅅ': 2, 'ㅈㅇ': 2, 'ㅁㅁ': 2, 'ㄷㅋ': 2, 'ㅂㄷ': 2, 'ㅆㄱㄷ': 2, 'ㅅㄹ': 2, 'ㄱㅇ': 2, 'ㄷㅇ지랄': 2, 'ㅁㅈㄷ': 2, 'ㅋ레알': 2, 'ㄷㅈ': 2, 'ㄸ레알': 2, 'ㅅㅈ': 2, 'ㅂㄱ': 2, 'ㄹㄱ': 2, 'ㅉㅈ': 2, 'ㅅㄷ': 2, 'ㅈㄱㄹ': 2, 'ㅆㅇ': 2, 'ㅂㄷㅇ': 2, 'ㅅㅎ': 2, 'ㅁㅈㅇ': 2, 'ㄴㅇㄹ': 1, '지랄ㄱ': 1, 'ㄷㄹ': 1, '추카ㅊ': 1, 'ㅋㄱㅋㄱㅋㄱㅋㄱㅋㄱㅋ': 1, 'ㅉㅊ': 1, 'ㅁㄹ': 1, 'ㅆㄸ': 1, 'ㅎㅈ': 1, '시발시발시발시발시발시발시발시발시발시발ㅅ': 1, 'ㅇㄷㅁ': 1, 'ㅁ추카': 1, 'ㄴㄷㄴㄷ': 1, '지랄ㅋ': 1, 'ㅇㅊ': 1, 'ㅋㅇ시발시발시발시발시발': 1, 'ㄱㅈㅅ': 1, 'ㄴㅁㄴ': 1, 'ㄱㄱㅎㅇㅉㄸ': 1, 'ㄷㅇㄴ': 1, 'ㅎㄹㅆ': 1, 'ㄹㅈㄱㄹ': 1, 'ㅋㅂ': 1, 'ㅇㅆ': 1, '시발시발': 1, 'ㄴㅋ': 1, 'ㅋㄱㄱ': 1, 'ㅈㅊㄴ': 1, 'ㅋㄱㅋㄱㅋ': 1, 'ㄴㅊ': 1, 'ㅁㄴㅊ': 1, 'ㅈㅈㅈ': 1, 'ㄹㅋ': 1, 'ㅅㅁㄱㅈ': 1, 'ㅁㅅ': 1, 'ㄷㅍㄹㅅㅈ': 1, 'ㅂㅇㅂㅇ': 1, '시발시발시발': 1, 'ㅁㅁㅁㅁㅁㅁㅁㅁㅁㅁㅁㅁㅁㅁㅁㅁㅁㅁ': 1, 'ㅈㅋㅇㅋ': 1, 'ㅈ새끼': 1, 'ㅁㅅㅇㄱ': 1, 'ㄷ새끼': 1, 'ㅈㅇ감사ㄷ': 1, 'ㅆㅆㅆ': 1, 'ㄹㄹ': 1, 'ㅋ병신': 1, 'ㄱㅁㄷ': 1, 'ㅇㄷㅎ': 1, 'ㄱㄴㅇㄱㅁㅎㅈ': 1, 'ㅈㄱㄴ': 1, 'ㄷ레알': 1, '수고ㅇ': 1, '미친ㄷ': 1, '병신ㅋㅇ': 1, 'ㅎㄸ': 1, '미친ㄷ미친ㅇ': 1, 'ㅃㅃㅇ': 1, 'ㅍㅁ': 1, 'ㅇㅂㅎ': 1, 'ㅂㄹㅎ': 1, 'ㅌㅂ': 1, 'ㄸㄸㅇ': 1, 'ㄱㄴㅇ': 1, 'ㅁㅌㅊ': 1, 'ㅊㅅㅇ': 1, 'ㅋㄱㅋㄱㅋㄱㅋㄱㅋ': 1, 'ㅋㄹㅃㅃ': 1, 'ㅍㅂㄱ': 1, 'ㄷㅍ': 1, 'ㄷㄱㄷㄱ': 1, 'ㅁㄷ': 1, 'ㅅㅃ': 1, 'ㅎㅈㅎ': 1, 'ㅋㅎㅋㅎ': 1, 'ㄷㅇ': 1, 'ㅃㄱ': 1, '미친ㅇㄷ': 1, 'ㄱㄷㅈ': 1, 'ㅋㅌㅋㅌㅋ': 1, 'ㅎㅌ': 1, 'ㄱㄱㄱ': 1, 'ㅉㅋㅈㅉ': 1, 'ㅍㅌ': 1, 'ㅇㅂㅇ': 1, 'ㅍㅍㅍ': 1, 'ㄴㄷㄴ': 1, 'ㄱ미친': 1, 'ㄷㄱㅁ': 1, 'ㄱㅁㄹ': 1, 'ㄸㅂ': 1, 'ㅁㄴㅇㅁㄴㅇ': 1, 'ㄹㄹㄹㄹ': 1, 'ㅈㄸ': 1, 'ㅅㅆㄱ': 1, 'ㅂㅊ': 1, 'ㄱㅎ': 1, '추카ㅎ': 1, 'ㅆㅇㅊ': 1, 'ㅉㅋㅈ': 1, 'ㄸㄹㄴ': 1, '병신ㄱ': 1, 'ㅂㄹㅈ': 1, 'ㅇ시발': 1, 'ㅇ병신': 1, '병신ㄱㅈㅈ': 1, 'ㄱㅍㅅ': 1, 'ㅎㄹㅈㅅ': 1, 'ㅈㅍ': 1, 'ㅎㅈㅎㅈ': 1, 'ㄴㄷㅈㄱㄴㅇ': 1, 'ㅅㅊㅈ': 1, 'ㅂㅆ': 1, '시발ㅌㅋ': 1, '병신지랄': 1, 'ㅂㄴ': 1, 'ㅁㅋ': 1, 'ㄷㄹㄷ': 1, 'ㅁㅇ': 1, '감사ㅇ': 1, '감사레알': 1, 'ㅎㅇㅂ': 1, 'ㅁㄱㅈㅇ': 1, 'ㅇㄱ레알': 1, 'ㅆㅋ': 1, 'ㅎㅅ': 1, 'ㅂㅋ': 1, 'ㅋㄷㄱㄷ': 1, 'ㄱ쓰레기': 1, '시발ㅅ': 1, '시발ㅇ': 1, 'ㅋㄷㅋㄷㅋㄷㅋ': 1, 'ㅅㅇㅂ': 1, '미친ㄱ': 1, 'ㄷㅅㄷ': 1, 'ㄷㄴ': 1, 'ㄹㄹㄹㄹㄹㄹㄹㄹ': 1, 'ㅁ지랄': 1, '시발ㄱ': 1, '지랄ㅇㅂ': 1, 'ㅋㄷㅋㄷㅋㄷㅋㄷㅋㄷ': 1, 'ㅍㅍㅎ': 1, '시발ㄱㄷㅇ': 1, 'ㄱㄷㅂ': 1, 'ㅂㅇㅋ': 1, '감사ㄱ': 1, 'ㅂㄱㅎ': 1, 'ㄱㅎㅂ': 1, 'ㅋㅇㄴㅋ': 1, 'ㅅㅈㅈ': 1, 'ㅎㅂ': 1, 'ㄷㅅㄷㅇ': 1, '레알레알': 1, 'ㅎㅇㅎ': 1, '후덜덜ㅁ': 1, '지랄ㅈㅅㅈㅇ': 1, 'ㅈㅇㄱ': 1})\n"
     ]
    }
   ],
   "source": [
    "print(Counter(cho_list))"
   ]
  },
  {
   "cell_type": "code",
   "execution_count": 146,
   "id": "f6eefd95",
   "metadata": {},
   "outputs": [
    {
     "data": {
      "text/plain": [
       "23313"
      ]
     },
     "execution_count": 146,
     "metadata": {},
     "output_type": "execute_result"
    }
   ],
   "source": [
    "len(cho_list)"
   ]
  },
  {
   "cell_type": "code",
   "execution_count": null,
   "id": "1b83debb",
   "metadata": {},
   "outputs": [],
   "source": []
  }
 ],
 "metadata": {
  "kernelspec": {
   "display_name": "Python 3 (ipykernel)",
   "language": "python",
   "name": "python3"
  },
  "language_info": {
   "codemirror_mode": {
    "name": "ipython",
    "version": 3
   },
   "file_extension": ".py",
   "mimetype": "text/x-python",
   "name": "python",
   "nbconvert_exporter": "python",
   "pygments_lexer": "ipython3",
   "version": "3.9.7"
  }
 },
 "nbformat": 4,
 "nbformat_minor": 5
}
