{
 "cells": [
  {
   "cell_type": "code",
   "execution_count": 1,
   "id": "ca18a281",
   "metadata": {},
   "outputs": [],
   "source": [
    "import pandas as pd\n",
    "import numpy as np\n",
    "import re\n",
    "\n",
    "import warnings\n",
    "warnings.filterwarnings('ignore')"
   ]
  },
  {
   "cell_type": "code",
   "execution_count": 2,
   "id": "66e4c715",
   "metadata": {},
   "outputs": [
    {
     "data": {
      "text/html": [
       "<div>\n",
       "<style scoped>\n",
       "    .dataframe tbody tr th:only-of-type {\n",
       "        vertical-align: middle;\n",
       "    }\n",
       "\n",
       "    .dataframe tbody tr th {\n",
       "        vertical-align: top;\n",
       "    }\n",
       "\n",
       "    .dataframe thead th {\n",
       "        text-align: right;\n",
       "    }\n",
       "</style>\n",
       "<table border=\"1\" class=\"dataframe\">\n",
       "  <thead>\n",
       "    <tr style=\"text-align: right;\">\n",
       "      <th></th>\n",
       "      <th>날짜</th>\n",
       "      <th>제목</th>\n",
       "      <th>정보제공</th>\n",
       "      <th>링크</th>\n",
       "      <th>기사</th>\n",
       "    </tr>\n",
       "  </thead>\n",
       "  <tbody>\n",
       "    <tr>\n",
       "      <th>0</th>\n",
       "      <td>2022-04-29</td>\n",
       "      <td>\"미래 푸드테크, 삼성·SK·네이버·카카오도 진출할 것\"</td>\n",
       "      <td>머니투데이</td>\n",
       "      <td>https://finance.naver.com/item/news_read.naver...</td>\n",
       "      <td>이기원 서울대학교 교수가 29일 여의도 콘래드 서울에서 머니투데이 주최로 열린 \"2...</td>\n",
       "    </tr>\n",
       "    <tr>\n",
       "      <th>1</th>\n",
       "      <td>2022-04-29</td>\n",
       "      <td>‘상생 행보’ 카카오…중기유통센터 손잡고 소상공인 지원</td>\n",
       "      <td>이코노미스트</td>\n",
       "      <td>https://finance.naver.com/item/news_read.naver...</td>\n",
       "      <td>소상공인 지원 프로그램 \"톡스토어X판판대로 과정\" 오픈 톡스토어X판판대로 과정. 카...</td>\n",
       "    </tr>\n",
       "    <tr>\n",
       "      <th>2</th>\n",
       "      <td>2022-04-29</td>\n",
       "      <td>소상공인 파트너와 성장하는 ‘톡스토어’..카카오</td>\n",
       "      <td>파이낸셜뉴스</td>\n",
       "      <td>https://finance.naver.com/item/news_read.naver...</td>\n",
       "      <td>카카오톡 쇼핑하기, 중소기업유통센터와 협업소상공인 판매자 위한 교육지원 프로그램 개...</td>\n",
       "    </tr>\n",
       "    <tr>\n",
       "      <th>3</th>\n",
       "      <td>2022-04-28</td>\n",
       "      <td>\"카카오·네이버보다도 못하다고?\"…삼성맨들 '부글부글'</td>\n",
       "      <td>한국경제</td>\n",
       "      <td>https://finance.naver.com/item/news_read.naver...</td>\n",
       "      <td>삼성전자, 연봉인상률 9% 논의노사협의회, 임금 협상 진행 상황 공지카카오 15%,...</td>\n",
       "    </tr>\n",
       "    <tr>\n",
       "      <th>4</th>\n",
       "      <td>2022-04-28</td>\n",
       "      <td>2040년까지 탄소 순 배출량 '0' 만든다…카카오 '넷 제로' 원칙 ...</td>\n",
       "      <td>이코노미스트</td>\n",
       "      <td>https://finance.naver.com/item/news_read.naver...</td>\n",
       "      <td>환경 문제 해결하기 위한 \"액티브 그린 이니셔티브\" 공개카카오 탄소 지수로 이행 수...</td>\n",
       "    </tr>\n",
       "  </tbody>\n",
       "</table>\n",
       "</div>"
      ],
      "text/plain": [
       "           날짜                                          제목    정보제공  \\\n",
       "0  2022-04-29             \"미래 푸드테크, 삼성·SK·네이버·카카오도 진출할 것\"   머니투데이   \n",
       "1  2022-04-29              ‘상생 행보’ 카카오…중기유통센터 손잡고 소상공인 지원  이코노미스트   \n",
       "2  2022-04-29                  소상공인 파트너와 성장하는 ‘톡스토어’..카카오  파이낸셜뉴스   \n",
       "3  2022-04-28              \"카카오·네이버보다도 못하다고?\"…삼성맨들 '부글부글'    한국경제   \n",
       "4  2022-04-28  2040년까지 탄소 순 배출량 '0' 만든다…카카오 '넷 제로' 원칙 ...  이코노미스트   \n",
       "\n",
       "                                                  링크  \\\n",
       "0  https://finance.naver.com/item/news_read.naver...   \n",
       "1  https://finance.naver.com/item/news_read.naver...   \n",
       "2  https://finance.naver.com/item/news_read.naver...   \n",
       "3  https://finance.naver.com/item/news_read.naver...   \n",
       "4  https://finance.naver.com/item/news_read.naver...   \n",
       "\n",
       "                                                  기사  \n",
       "0  이기원 서울대학교 교수가 29일 여의도 콘래드 서울에서 머니투데이 주최로 열린 \"2...  \n",
       "1  소상공인 지원 프로그램 \"톡스토어X판판대로 과정\" 오픈 톡스토어X판판대로 과정. 카...  \n",
       "2  카카오톡 쇼핑하기, 중소기업유통센터와 협업소상공인 판매자 위한 교육지원 프로그램 개...  \n",
       "3  삼성전자, 연봉인상률 9% 논의노사협의회, 임금 협상 진행 상황 공지카카오 15%,...  \n",
       "4  환경 문제 해결하기 위한 \"액티브 그린 이니셔티브\" 공개카카오 탄소 지수로 이행 수...  "
      ]
     },
     "execution_count": 2,
     "metadata": {},
     "output_type": "execute_result"
    }
   ],
   "source": [
    "df = pd.read_csv('./src/네이버금융종목뉴스기사본문_카카오_전체_전처리후.csv')\n",
    "df.head()"
   ]
  },
  {
   "cell_type": "code",
   "execution_count": null,
   "id": "8bd152f3",
   "metadata": {},
   "outputs": [],
   "source": []
  }
 ],
 "metadata": {
  "kernelspec": {
   "display_name": "Python 3 (ipykernel)",
   "language": "python",
   "name": "python3"
  },
  "language_info": {
   "codemirror_mode": {
    "name": "ipython",
    "version": 3
   },
   "file_extension": ".py",
   "mimetype": "text/x-python",
   "name": "python",
   "nbconvert_exporter": "python",
   "pygments_lexer": "ipython3",
   "version": "3.9.7"
  }
 },
 "nbformat": 4,
 "nbformat_minor": 5
}
