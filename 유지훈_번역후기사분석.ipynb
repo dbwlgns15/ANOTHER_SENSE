{
 "cells": [
  {
   "cell_type": "code",
   "execution_count": 1,
   "id": "1fdf7acc",
   "metadata": {},
   "outputs": [],
   "source": [
    "import pandas as pd\n",
    "import numpy as np\n",
    "\n",
    "import warnings\n",
    "warnings.filterwarnings('ignore')"
   ]
  },
  {
   "cell_type": "code",
   "execution_count": 10,
   "id": "2f6221b3",
   "metadata": {},
   "outputs": [
    {
     "data": {
      "text/html": [
       "<div>\n",
       "<style scoped>\n",
       "    .dataframe tbody tr th:only-of-type {\n",
       "        vertical-align: middle;\n",
       "    }\n",
       "\n",
       "    .dataframe tbody tr th {\n",
       "        vertical-align: top;\n",
       "    }\n",
       "\n",
       "    .dataframe thead th {\n",
       "        text-align: right;\n",
       "    }\n",
       "</style>\n",
       "<table border=\"1\" class=\"dataframe\">\n",
       "  <thead>\n",
       "    <tr style=\"text-align: right;\">\n",
       "      <th></th>\n",
       "      <th>날짜</th>\n",
       "      <th>제목</th>\n",
       "      <th>영문번역</th>\n",
       "    </tr>\n",
       "  </thead>\n",
       "  <tbody>\n",
       "    <tr>\n",
       "      <th>0</th>\n",
       "      <td>2022-04-29</td>\n",
       "      <td>\"미래 푸드테크, 삼성·SK·네이버·카카오도 진출할 것\"</td>\n",
       "      <td>Lee Ki -won, a professor at Seoul National Uni...</td>\n",
       "    </tr>\n",
       "    <tr>\n",
       "      <th>1</th>\n",
       "      <td>2022-04-29</td>\n",
       "      <td>‘상생 행보’ 카카오…중기유통센터 손잡고 소상공인 지원</td>\n",
       "      <td>Small Business Support Program \"Talk Store X E...</td>\n",
       "    </tr>\n",
       "    <tr>\n",
       "      <th>2</th>\n",
       "      <td>2022-04-28</td>\n",
       "      <td>\"카카오·네이버보다도 못하다고?\"…삼성맨들 '부글부글'</td>\n",
       "      <td>Samsung Electronics, the annual salary increas...</td>\n",
       "    </tr>\n",
       "    <tr>\n",
       "      <th>3</th>\n",
       "      <td>2022-04-28</td>\n",
       "      <td>2040년까지 탄소 순 배출량 '0' 만든다…카카오 '넷 제로' 원칙 ...</td>\n",
       "      <td>In order to solve the environmental problem, \"...</td>\n",
       "    </tr>\n",
       "    <tr>\n",
       "      <th>4</th>\n",
       "      <td>2022-04-28</td>\n",
       "      <td>카카오 공동체, 'RE100' 가입 추진..ESG 강화</td>\n",
       "      <td>Approval of the Climate Crisis Principles thro...</td>\n",
       "    </tr>\n",
       "    <tr>\n",
       "      <th>...</th>\n",
       "      <td>...</td>\n",
       "      <td>...</td>\n",
       "      <td>...</td>\n",
       "    </tr>\n",
       "    <tr>\n",
       "      <th>3640</th>\n",
       "      <td>2021-05-03</td>\n",
       "      <td>카카오-카카오커머스, ‘톡스토어 판매자’ 키운다</td>\n",
       "      <td>\"Talk Store Seller Training Course\" Collaborat...</td>\n",
       "    </tr>\n",
       "    <tr>\n",
       "      <th>3641</th>\n",
       "      <td>2021-05-03</td>\n",
       "      <td>카카오·카카오커머스, '톡스토어' 판매자 양성 과정 진행</td>\n",
       "      <td>Kakao and Kakao Commerce announced on the 3rd ...</td>\n",
       "    </tr>\n",
       "    <tr>\n",
       "      <th>3642</th>\n",
       "      <td>2021-05-01</td>\n",
       "      <td>KT와 카카오의 공유자전거 힘겨루기…T바이크에 타조 맞불</td>\n",
       "      <td>Kakao T Bike Baya, operated by Kakao Mobility,...</td>\n",
       "    </tr>\n",
       "    <tr>\n",
       "      <th>3643</th>\n",
       "      <td>2021-04-30</td>\n",
       "      <td>네이버 오른다는데…공매도 타깃된 카카오 \"나 떨고있니?\"</td>\n",
       "      <td>On May 3, the company's evaluation of IT rival...</td>\n",
       "    </tr>\n",
       "    <tr>\n",
       "      <th>3644</th>\n",
       "      <td>2021-04-30</td>\n",
       "      <td>카카오내비, ‘방문 정비’ 시작 “주행분석까지 한다”</td>\n",
       "      <td>Visit Car Wash-Following the charging of elect...</td>\n",
       "    </tr>\n",
       "  </tbody>\n",
       "</table>\n",
       "<p>3645 rows × 3 columns</p>\n",
       "</div>"
      ],
      "text/plain": [
       "              날짜                                          제목  \\\n",
       "0     2022-04-29             \"미래 푸드테크, 삼성·SK·네이버·카카오도 진출할 것\"   \n",
       "1     2022-04-29              ‘상생 행보’ 카카오…중기유통센터 손잡고 소상공인 지원   \n",
       "2     2022-04-28              \"카카오·네이버보다도 못하다고?\"…삼성맨들 '부글부글'   \n",
       "3     2022-04-28  2040년까지 탄소 순 배출량 '0' 만든다…카카오 '넷 제로' 원칙 ...   \n",
       "4     2022-04-28              카카오 공동체, 'RE100' 가입 추진..ESG 강화   \n",
       "...          ...                                         ...   \n",
       "3640  2021-05-03                  카카오-카카오커머스, ‘톡스토어 판매자’ 키운다   \n",
       "3641  2021-05-03             카카오·카카오커머스, '톡스토어' 판매자 양성 과정 진행   \n",
       "3642  2021-05-01             KT와 카카오의 공유자전거 힘겨루기…T바이크에 타조 맞불   \n",
       "3643  2021-04-30             네이버 오른다는데…공매도 타깃된 카카오 \"나 떨고있니?\"   \n",
       "3644  2021-04-30               카카오내비, ‘방문 정비’ 시작 “주행분석까지 한다”   \n",
       "\n",
       "                                                   영문번역  \n",
       "0     Lee Ki -won, a professor at Seoul National Uni...  \n",
       "1     Small Business Support Program \"Talk Store X E...  \n",
       "2     Samsung Electronics, the annual salary increas...  \n",
       "3     In order to solve the environmental problem, \"...  \n",
       "4     Approval of the Climate Crisis Principles thro...  \n",
       "...                                                 ...  \n",
       "3640  \"Talk Store Seller Training Course\" Collaborat...  \n",
       "3641  Kakao and Kakao Commerce announced on the 3rd ...  \n",
       "3642  Kakao T Bike Baya, operated by Kakao Mobility,...  \n",
       "3643  On May 3, the company's evaluation of IT rival...  \n",
       "3644  Visit Car Wash-Following the charging of elect...  \n",
       "\n",
       "[3645 rows x 3 columns]"
      ]
     },
     "execution_count": 10,
     "metadata": {},
     "output_type": "execute_result"
    }
   ],
   "source": [
    "df = pd.read_csv('./src/카카오뉴스기사_최종.csv')\n",
    "df"
   ]
  },
  {
   "cell_type": "code",
   "execution_count": 13,
   "id": "25d75c2d",
   "metadata": {},
   "outputs": [
    {
     "name": "stdout",
     "output_type": "stream",
     "text": [
      "\"카카오 금융사업 제한 우려 과도…기존 은행 가치↑\"\n",
      "When registration of financial operators, the company's sustainable \"Consumer Protection\" changes in policy stance. There was an interpretation that concerns seem excessive. However, it was suggested that the value of existing large bank franchises will increase significantly in that the regulation of platform companies and Internet banks can be strengthened. Seo Young -soo, a researcher at Kiwoom Securities, must register as a financial business to sell the platform and fintech according to the Golden Law on the 9th. It is expected that there will be excessive concerns that the business will continue to be registered as a operator and the financial business will be restricted in the future. The developed country has shifted to consumer protection since the 2008 financial crisis. It is interpreted that financial authorities also shifted policy stance from consumer benefits to protection. He then suggests that the regulation of the platform company and Internet banks, which have been the largest beneficiaries of consumer benefit -oriented policies, and the regulation of Internet banks. He added that it will go up significantly, so it will hold a positive view of existing large financial holdings.\n"
     ]
    }
   ],
   "source": [
    "i = 2225\n",
    "print(df['제목'][i])\n",
    "print(df['영문번역'][i])"
   ]
  },
  {
   "cell_type": "code",
   "execution_count": null,
   "id": "3c43d06a",
   "metadata": {},
   "outputs": [],
   "source": []
  }
 ],
 "metadata": {
  "kernelspec": {
   "display_name": "Python 3 (ipykernel)",
   "language": "python",
   "name": "python3"
  },
  "language_info": {
   "codemirror_mode": {
    "name": "ipython",
    "version": 3
   },
   "file_extension": ".py",
   "mimetype": "text/x-python",
   "name": "python",
   "nbconvert_exporter": "python",
   "pygments_lexer": "ipython3",
   "version": "3.9.7"
  }
 },
 "nbformat": 4,
 "nbformat_minor": 5
}
