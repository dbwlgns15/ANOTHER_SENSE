{
 "cells": [
  {
   "cell_type": "code",
   "execution_count": 18,
   "id": "7c8558d7",
   "metadata": {},
   "outputs": [],
   "source": [
    "import pandas as pd\n",
    "import numpy as np\n",
    "import re\n",
    "from collections import Counter\n",
    "\n",
    "from konlpy.tag import Okt\n",
    "from gensim.models import Word2Vec\n",
    "\n",
    "import warnings\n",
    "warnings.filterwarnings('ignore')"
   ]
  },
  {
   "cell_type": "code",
   "execution_count": 2,
   "id": "34cab737",
   "metadata": {},
   "outputs": [],
   "source": [
    "df_ka = pd.read_csv('./src/comments_kakao_300000.csv')\n",
    "df_sam = pd.read_csv('./src/comments_samsung_200000.csv')"
   ]
  },
  {
   "cell_type": "code",
   "execution_count": 3,
   "id": "cbee8061",
   "metadata": {},
   "outputs": [
    {
     "name": "stdout",
     "output_type": "stream",
     "text": [
      "데이터 크기:  (500000, 5)\n"
     ]
    },
    {
     "data": {
      "text/html": [
       "<div>\n",
       "<style scoped>\n",
       "    .dataframe tbody tr th:only-of-type {\n",
       "        vertical-align: middle;\n",
       "    }\n",
       "\n",
       "    .dataframe tbody tr th {\n",
       "        vertical-align: top;\n",
       "    }\n",
       "\n",
       "    .dataframe thead th {\n",
       "        text-align: right;\n",
       "    }\n",
       "</style>\n",
       "<table border=\"1\" class=\"dataframe\">\n",
       "  <thead>\n",
       "    <tr style=\"text-align: right;\">\n",
       "      <th></th>\n",
       "      <th>날짜</th>\n",
       "      <th>댓글</th>\n",
       "      <th>조회수</th>\n",
       "      <th>좋아요</th>\n",
       "      <th>싫어요</th>\n",
       "    </tr>\n",
       "  </thead>\n",
       "  <tbody>\n",
       "    <tr>\n",
       "      <th>0</th>\n",
       "      <td>2022-05-03</td>\n",
       "      <td>개미들 조련하는법</td>\n",
       "      <td>26</td>\n",
       "      <td>1</td>\n",
       "      <td>0</td>\n",
       "    </tr>\n",
       "    <tr>\n",
       "      <th>1</th>\n",
       "      <td>2022-05-03</td>\n",
       "      <td>6만원</td>\n",
       "      <td>38</td>\n",
       "      <td>1</td>\n",
       "      <td>0</td>\n",
       "    </tr>\n",
       "    <tr>\n",
       "      <th>2</th>\n",
       "      <td>2022-05-03</td>\n",
       "      <td>카카오는 끝물입니다 사실상</td>\n",
       "      <td>72</td>\n",
       "      <td>2</td>\n",
       "      <td>2</td>\n",
       "    </tr>\n",
       "    <tr>\n",
       "      <th>3</th>\n",
       "      <td>2022-05-03</td>\n",
       "      <td>안티 살발하다</td>\n",
       "      <td>34</td>\n",
       "      <td>2</td>\n",
       "      <td>0</td>\n",
       "    </tr>\n",
       "    <tr>\n",
       "      <th>4</th>\n",
       "      <td>2022-05-03</td>\n",
       "      <td>이런 호로개미지옥탕을 만드신</td>\n",
       "      <td>58</td>\n",
       "      <td>3</td>\n",
       "      <td>1</td>\n",
       "    </tr>\n",
       "  </tbody>\n",
       "</table>\n",
       "</div>"
      ],
      "text/plain": [
       "           날짜               댓글  조회수  좋아요  싫어요\n",
       "0  2022-05-03        개미들 조련하는법   26    1    0\n",
       "1  2022-05-03              6만원   38    1    0\n",
       "2  2022-05-03   카카오는 끝물입니다 사실상   72    2    2\n",
       "3  2022-05-03          안티 살발하다   34    2    0\n",
       "4  2022-05-03  이런 호로개미지옥탕을 만드신   58    3    1"
      ]
     },
     "execution_count": 3,
     "metadata": {},
     "output_type": "execute_result"
    }
   ],
   "source": [
    "df = df_ka.append(df_sam)\n",
    "df = df.reset_index(drop=True)\n",
    "print('데이터 크기: ',df.shape)\n",
    "df.head()"
   ]
  },
  {
   "cell_type": "code",
   "execution_count": 4,
   "id": "fffe09b1",
   "metadata": {},
   "outputs": [
    {
     "name": "stdout",
     "output_type": "stream",
     "text": [
      "데이터 크기:  (499984, 5)\n"
     ]
    },
    {
     "data": {
      "text/html": [
       "<div>\n",
       "<style scoped>\n",
       "    .dataframe tbody tr th:only-of-type {\n",
       "        vertical-align: middle;\n",
       "    }\n",
       "\n",
       "    .dataframe tbody tr th {\n",
       "        vertical-align: top;\n",
       "    }\n",
       "\n",
       "    .dataframe thead th {\n",
       "        text-align: right;\n",
       "    }\n",
       "</style>\n",
       "<table border=\"1\" class=\"dataframe\">\n",
       "  <thead>\n",
       "    <tr style=\"text-align: right;\">\n",
       "      <th></th>\n",
       "      <th>날짜</th>\n",
       "      <th>댓글</th>\n",
       "      <th>조회수</th>\n",
       "      <th>좋아요</th>\n",
       "      <th>싫어요</th>\n",
       "    </tr>\n",
       "  </thead>\n",
       "  <tbody>\n",
       "    <tr>\n",
       "      <th>0</th>\n",
       "      <td>2022-05-03</td>\n",
       "      <td>개미들 조련하는법</td>\n",
       "      <td>26</td>\n",
       "      <td>1</td>\n",
       "      <td>0</td>\n",
       "    </tr>\n",
       "    <tr>\n",
       "      <th>1</th>\n",
       "      <td>2022-05-03</td>\n",
       "      <td>6만원</td>\n",
       "      <td>38</td>\n",
       "      <td>1</td>\n",
       "      <td>0</td>\n",
       "    </tr>\n",
       "    <tr>\n",
       "      <th>2</th>\n",
       "      <td>2022-05-03</td>\n",
       "      <td>카카오는 끝물입니다 사실상</td>\n",
       "      <td>72</td>\n",
       "      <td>2</td>\n",
       "      <td>2</td>\n",
       "    </tr>\n",
       "    <tr>\n",
       "      <th>3</th>\n",
       "      <td>2022-05-03</td>\n",
       "      <td>안티 살발하다</td>\n",
       "      <td>34</td>\n",
       "      <td>2</td>\n",
       "      <td>0</td>\n",
       "    </tr>\n",
       "    <tr>\n",
       "      <th>4</th>\n",
       "      <td>2022-05-03</td>\n",
       "      <td>이런 호로개미지옥탕을 만드신</td>\n",
       "      <td>58</td>\n",
       "      <td>3</td>\n",
       "      <td>1</td>\n",
       "    </tr>\n",
       "  </tbody>\n",
       "</table>\n",
       "</div>"
      ],
      "text/plain": [
       "           날짜               댓글  조회수  좋아요  싫어요\n",
       "0  2022-05-03        개미들 조련하는법   26    1    0\n",
       "1  2022-05-03              6만원   38    1    0\n",
       "2  2022-05-03   카카오는 끝물입니다 사실상   72    2    2\n",
       "3  2022-05-03          안티 살발하다   34    2    0\n",
       "4  2022-05-03  이런 호로개미지옥탕을 만드신   58    3    1"
      ]
     },
     "execution_count": 4,
     "metadata": {},
     "output_type": "execute_result"
    }
   ],
   "source": [
    "df = df[df['댓글'] != 'error']\n",
    "df = df.dropna()\n",
    "print('데이터 크기: ',df.shape)\n",
    "df.head()"
   ]
  },
  {
   "cell_type": "code",
   "execution_count": 5,
   "id": "75a1eafc",
   "metadata": {},
   "outputs": [
    {
     "name": "stdout",
     "output_type": "stream",
     "text": [
      "데이터 크기:  (493864, 2)\n"
     ]
    },
    {
     "data": {
      "text/html": [
       "<div>\n",
       "<style scoped>\n",
       "    .dataframe tbody tr th:only-of-type {\n",
       "        vertical-align: middle;\n",
       "    }\n",
       "\n",
       "    .dataframe tbody tr th {\n",
       "        vertical-align: top;\n",
       "    }\n",
       "\n",
       "    .dataframe thead th {\n",
       "        text-align: right;\n",
       "    }\n",
       "</style>\n",
       "<table border=\"1\" class=\"dataframe\">\n",
       "  <thead>\n",
       "    <tr style=\"text-align: right;\">\n",
       "      <th></th>\n",
       "      <th>댓글</th>\n",
       "      <th>정제된 댓글</th>\n",
       "    </tr>\n",
       "  </thead>\n",
       "  <tbody>\n",
       "    <tr>\n",
       "      <th>0</th>\n",
       "      <td>개미들 조련하는법</td>\n",
       "      <td>개미들 조련하는법</td>\n",
       "    </tr>\n",
       "    <tr>\n",
       "      <th>1</th>\n",
       "      <td>6만원</td>\n",
       "      <td>만원</td>\n",
       "    </tr>\n",
       "    <tr>\n",
       "      <th>2</th>\n",
       "      <td>카카오는 끝물입니다 사실상</td>\n",
       "      <td>카카오는 끝물입니다 사실상</td>\n",
       "    </tr>\n",
       "    <tr>\n",
       "      <th>3</th>\n",
       "      <td>안티 살발하다</td>\n",
       "      <td>안티 살발하다</td>\n",
       "    </tr>\n",
       "    <tr>\n",
       "      <th>4</th>\n",
       "      <td>이런 호로개미지옥탕을 만드신</td>\n",
       "      <td>이런 호로개미지옥탕을 만드신</td>\n",
       "    </tr>\n",
       "  </tbody>\n",
       "</table>\n",
       "</div>"
      ],
      "text/plain": [
       "                댓글           정제된 댓글\n",
       "0        개미들 조련하는법        개미들 조련하는법\n",
       "1              6만원               만원\n",
       "2   카카오는 끝물입니다 사실상   카카오는 끝물입니다 사실상\n",
       "3          안티 살발하다          안티 살발하다\n",
       "4  이런 호로개미지옥탕을 만드신  이런 호로개미지옥탕을 만드신"
      ]
     },
     "execution_count": 5,
     "metadata": {},
     "output_type": "execute_result"
    }
   ],
   "source": [
    "df['정제된 댓글'] = df['댓글'].str.replace('\\[삭제된 게시물의 답글\\]',' ')\n",
    "df['정제된 댓글'] = df['정제된 댓글'].str.replace('답글:',' ')\n",
    "df['정제된 댓글'] = df['정제된 댓글'].str.replace('[^가-힣]',' ').str.replace(' +',' ').str.strip()\n",
    "df = df[df['정제된 댓글'] != '']\n",
    "df = df.reset_index(drop=True)\n",
    "df = df[['댓글','정제된 댓글']]\n",
    "print('데이터 크기: ',df.shape)\n",
    "df.head()"
   ]
  },
  {
   "cell_type": "code",
   "execution_count": 7,
   "id": "64b6200f",
   "metadata": {
    "scrolled": true
   },
   "outputs": [
    {
     "name": "stdout",
     "output_type": "stream",
     "text": [
      "493864개 형태소분석 완료.\n",
      "데이터 크기:  (493864, 3)\n"
     ]
    },
    {
     "data": {
      "text/html": [
       "<div>\n",
       "<style scoped>\n",
       "    .dataframe tbody tr th:only-of-type {\n",
       "        vertical-align: middle;\n",
       "    }\n",
       "\n",
       "    .dataframe tbody tr th {\n",
       "        vertical-align: top;\n",
       "    }\n",
       "\n",
       "    .dataframe thead th {\n",
       "        text-align: right;\n",
       "    }\n",
       "</style>\n",
       "<table border=\"1\" class=\"dataframe\">\n",
       "  <thead>\n",
       "    <tr style=\"text-align: right;\">\n",
       "      <th></th>\n",
       "      <th>댓글</th>\n",
       "      <th>정제된 댓글</th>\n",
       "      <th>토큰화 댓글</th>\n",
       "    </tr>\n",
       "  </thead>\n",
       "  <tbody>\n",
       "    <tr>\n",
       "      <th>0</th>\n",
       "      <td>개미들 조련하는법</td>\n",
       "      <td>개미들 조련하는법</td>\n",
       "      <td>[개미, 조련, 하다, 법]</td>\n",
       "    </tr>\n",
       "    <tr>\n",
       "      <th>1</th>\n",
       "      <td>6만원</td>\n",
       "      <td>만원</td>\n",
       "      <td>[만원]</td>\n",
       "    </tr>\n",
       "    <tr>\n",
       "      <th>2</th>\n",
       "      <td>카카오는 끝물입니다 사실상</td>\n",
       "      <td>카카오는 끝물입니다 사실상</td>\n",
       "      <td>[카카오, 끝물, 이다, 사실]</td>\n",
       "    </tr>\n",
       "    <tr>\n",
       "      <th>3</th>\n",
       "      <td>안티 살발하다</td>\n",
       "      <td>안티 살발하다</td>\n",
       "      <td>[안티, 살발]</td>\n",
       "    </tr>\n",
       "    <tr>\n",
       "      <th>4</th>\n",
       "      <td>이런 호로개미지옥탕을 만드신</td>\n",
       "      <td>이런 호로개미지옥탕을 만드신</td>\n",
       "      <td>[이렇다, 호로, 개미, 지옥탕, 만들다]</td>\n",
       "    </tr>\n",
       "  </tbody>\n",
       "</table>\n",
       "</div>"
      ],
      "text/plain": [
       "                댓글           정제된 댓글                   토큰화 댓글\n",
       "0        개미들 조련하는법        개미들 조련하는법          [개미, 조련, 하다, 법]\n",
       "1              6만원               만원                     [만원]\n",
       "2   카카오는 끝물입니다 사실상   카카오는 끝물입니다 사실상        [카카오, 끝물, 이다, 사실]\n",
       "3          안티 살발하다          안티 살발하다                 [안티, 살발]\n",
       "4  이런 호로개미지옥탕을 만드신  이런 호로개미지옥탕을 만드신  [이렇다, 호로, 개미, 지옥탕, 만들다]"
      ]
     },
     "execution_count": 7,
     "metadata": {},
     "output_type": "execute_result"
    }
   ],
   "source": [
    "okt = Okt()\n",
    "tag_list = ['Noun','Verb','Adjective','VerbPrefix']\n",
    "tokenized_data = []\n",
    "\n",
    "for i in range(df.shape[0]):\n",
    "    tokenized_sentence = okt.pos(df['정제된 댓글'][i], stem=True) # 토큰화\n",
    "    tag_checked_sentence = []\n",
    "    for j in tokenized_sentence:\n",
    "        x,y = j\n",
    "        if y in tag_list:\n",
    "            tag_checked_sentence.append(x)\n",
    "    tokenized_data.append(tag_checked_sentence)\n",
    "    print(f'\\r{i+1}개 형태소분석 완료.',end='')\n",
    "df['토큰화 댓글'] = tokenized_data\n",
    "# df = df[df['토큰화 댓글'].str.len() > 1]\n",
    "df = df.reset_index(drop=True)\n",
    "df = df[df['토큰화 댓글'] != '[]']\n",
    "print('\\n데이터 크기: ',df.shape)\n",
    "df.head()d"
   ]
  },
  {
   "cell_type": "code",
   "execution_count": 43,
   "id": "572638e1",
   "metadata": {},
   "outputs": [
    {
     "name": "stdout",
     "output_type": "stream",
     "text": [
      "\n",
      "데이터 크기:  (362544, 3)\n"
     ]
    },
    {
     "data": {
      "text/html": [
       "<div>\n",
       "<style scoped>\n",
       "    .dataframe tbody tr th:only-of-type {\n",
       "        vertical-align: middle;\n",
       "    }\n",
       "\n",
       "    .dataframe tbody tr th {\n",
       "        vertical-align: top;\n",
       "    }\n",
       "\n",
       "    .dataframe thead th {\n",
       "        text-align: right;\n",
       "    }\n",
       "</style>\n",
       "<table border=\"1\" class=\"dataframe\">\n",
       "  <thead>\n",
       "    <tr style=\"text-align: right;\">\n",
       "      <th></th>\n",
       "      <th>댓글</th>\n",
       "      <th>정제된 댓글</th>\n",
       "      <th>토큰화 댓글</th>\n",
       "    </tr>\n",
       "  </thead>\n",
       "  <tbody>\n",
       "    <tr>\n",
       "      <th>0</th>\n",
       "      <td>개미들 조련하는법</td>\n",
       "      <td>개미들 조련하는법</td>\n",
       "      <td>['개미', '조련', '하다', '법']</td>\n",
       "    </tr>\n",
       "    <tr>\n",
       "      <th>1</th>\n",
       "      <td>6만원</td>\n",
       "      <td>만원</td>\n",
       "      <td>['만원']</td>\n",
       "    </tr>\n",
       "    <tr>\n",
       "      <th>2</th>\n",
       "      <td>카카오는 끝물입니다 사실상</td>\n",
       "      <td>카카오는 끝물입니다 사실상</td>\n",
       "      <td>['카카오', '끝물', '이다', '사실']</td>\n",
       "    </tr>\n",
       "    <tr>\n",
       "      <th>3</th>\n",
       "      <td>안티 살발하다</td>\n",
       "      <td>안티 살발하다</td>\n",
       "      <td>['안티', '살발']</td>\n",
       "    </tr>\n",
       "    <tr>\n",
       "      <th>4</th>\n",
       "      <td>이런 호로개미지옥탕을 만드신</td>\n",
       "      <td>이런 호로개미지옥탕을 만드신</td>\n",
       "      <td>['이렇다', '호로', '개미', '지옥탕', '만들다']</td>\n",
       "    </tr>\n",
       "  </tbody>\n",
       "</table>\n",
       "</div>"
      ],
      "text/plain": [
       "                댓글           정제된 댓글                             토큰화 댓글\n",
       "0        개미들 조련하는법        개미들 조련하는법            ['개미', '조련', '하다', '법']\n",
       "1              6만원               만원                             ['만원']\n",
       "2   카카오는 끝물입니다 사실상   카카오는 끝물입니다 사실상          ['카카오', '끝물', '이다', '사실']\n",
       "3          안티 살발하다          안티 살발하다                       ['안티', '살발']\n",
       "4  이런 호로개미지옥탕을 만드신  이런 호로개미지옥탕을 만드신  ['이렇다', '호로', '개미', '지옥탕', '만들다']"
      ]
     },
     "execution_count": 43,
     "metadata": {},
     "output_type": "execute_result"
    }
   ],
   "source": [
    "df = df.drop_duplicates('토큰화 댓글')\n",
    "df = df.reset_index(drop=True)\n",
    "print('\\n데이터 크기: ',df.shape)\n",
    "df.head()"
   ]
  },
  {
   "cell_type": "code",
   "execution_count": 44,
   "id": "fb03a660",
   "metadata": {},
   "outputs": [],
   "source": [
    "# df.to_csv('./src/tokenized_comment.csv', index=False)"
   ]
  },
  {
   "cell_type": "code",
   "execution_count": 45,
   "id": "585cc7fb",
   "metadata": {},
   "outputs": [
    {
     "name": "stdout",
     "output_type": "stream",
     "text": [
      "\n",
      "데이터 크기:  (362544, 3)\n"
     ]
    },
    {
     "data": {
      "text/html": [
       "<div>\n",
       "<style scoped>\n",
       "    .dataframe tbody tr th:only-of-type {\n",
       "        vertical-align: middle;\n",
       "    }\n",
       "\n",
       "    .dataframe tbody tr th {\n",
       "        vertical-align: top;\n",
       "    }\n",
       "\n",
       "    .dataframe thead th {\n",
       "        text-align: right;\n",
       "    }\n",
       "</style>\n",
       "<table border=\"1\" class=\"dataframe\">\n",
       "  <thead>\n",
       "    <tr style=\"text-align: right;\">\n",
       "      <th></th>\n",
       "      <th>댓글</th>\n",
       "      <th>정제된 댓글</th>\n",
       "      <th>토큰화 댓글</th>\n",
       "    </tr>\n",
       "  </thead>\n",
       "  <tbody>\n",
       "    <tr>\n",
       "      <th>0</th>\n",
       "      <td>개미들 조련하는법</td>\n",
       "      <td>개미들 조련하는법</td>\n",
       "      <td>['개미', '조련', '하다', '법']</td>\n",
       "    </tr>\n",
       "    <tr>\n",
       "      <th>1</th>\n",
       "      <td>6만원</td>\n",
       "      <td>만원</td>\n",
       "      <td>['만원']</td>\n",
       "    </tr>\n",
       "    <tr>\n",
       "      <th>2</th>\n",
       "      <td>카카오는 끝물입니다 사실상</td>\n",
       "      <td>카카오는 끝물입니다 사실상</td>\n",
       "      <td>['카카오', '끝물', '이다', '사실']</td>\n",
       "    </tr>\n",
       "    <tr>\n",
       "      <th>3</th>\n",
       "      <td>안티 살발하다</td>\n",
       "      <td>안티 살발하다</td>\n",
       "      <td>['안티', '살발']</td>\n",
       "    </tr>\n",
       "    <tr>\n",
       "      <th>4</th>\n",
       "      <td>이런 호로개미지옥탕을 만드신</td>\n",
       "      <td>이런 호로개미지옥탕을 만드신</td>\n",
       "      <td>['이렇다', '호로', '개미', '지옥탕', '만들다']</td>\n",
       "    </tr>\n",
       "  </tbody>\n",
       "</table>\n",
       "</div>"
      ],
      "text/plain": [
       "                댓글           정제된 댓글                             토큰화 댓글\n",
       "0        개미들 조련하는법        개미들 조련하는법            ['개미', '조련', '하다', '법']\n",
       "1              6만원               만원                             ['만원']\n",
       "2   카카오는 끝물입니다 사실상   카카오는 끝물입니다 사실상          ['카카오', '끝물', '이다', '사실']\n",
       "3          안티 살발하다          안티 살발하다                       ['안티', '살발']\n",
       "4  이런 호로개미지옥탕을 만드신  이런 호로개미지옥탕을 만드신  ['이렇다', '호로', '개미', '지옥탕', '만들다']"
      ]
     },
     "execution_count": 45,
     "metadata": {},
     "output_type": "execute_result"
    }
   ],
   "source": [
    "df = pd.read_csv('./src/tokenized_comment.csv')\n",
    "print('\\n데이터 크기: ',df.shape)\n",
    "df.head()"
   ]
  },
  {
   "cell_type": "code",
   "execution_count": 61,
   "id": "51e9f89b",
   "metadata": {
    "scrolled": true
   },
   "outputs": [],
   "source": [
    "good = []\n",
    "for i in range(df.shape[0]):\n",
    "    comment = eval(df['토큰화 댓글'][i])\n",
    "    if '좋다' in comment:\n",
    "        good.append(comment)"
   ]
  },
  {
   "cell_type": "code",
   "execution_count": 65,
   "id": "aec96df9",
   "metadata": {
    "scrolled": true
   },
   "outputs": [],
   "source": [
    "bad = []\n",
    "for i in range(df.shape[0]):\n",
    "    comment = eval(df['토큰화 댓글'][i])\n",
    "    if '망하다' in comment or '밉다' in comment:\n",
    "        bad.append(comment)"
   ]
  },
  {
   "cell_type": "code",
   "execution_count": 66,
   "id": "8e4de37e",
   "metadata": {},
   "outputs": [
    {
     "data": {
      "text/plain": [
       "4099"
      ]
     },
     "execution_count": 66,
     "metadata": {},
     "output_type": "execute_result"
    }
   ],
   "source": [
    "len(good)"
   ]
  },
  {
   "cell_type": "code",
   "execution_count": 67,
   "id": "b1f933d6",
   "metadata": {},
   "outputs": [
    {
     "data": {
      "text/plain": [
       "3592"
      ]
     },
     "execution_count": 67,
     "metadata": {},
     "output_type": "execute_result"
    }
   ],
   "source": [
    "len(bad)"
   ]
  },
  {
   "cell_type": "code",
   "execution_count": null,
   "id": "132405bb",
   "metadata": {},
   "outputs": [],
   "source": []
  },
  {
   "cell_type": "code",
   "execution_count": null,
   "id": "645d76ba",
   "metadata": {},
   "outputs": [],
   "source": []
  },
  {
   "cell_type": "code",
   "execution_count": null,
   "id": "a5b17cce",
   "metadata": {},
   "outputs": [],
   "source": []
  },
  {
   "cell_type": "code",
   "execution_count": null,
   "id": "8e1aabdf",
   "metadata": {},
   "outputs": [],
   "source": []
  },
  {
   "cell_type": "code",
   "execution_count": null,
   "id": "c91b0e9a",
   "metadata": {},
   "outputs": [],
   "source": []
  }
 ],
 "metadata": {
  "kernelspec": {
   "display_name": "Python 3 (ipykernel)",
   "language": "python",
   "name": "python3"
  },
  "language_info": {
   "codemirror_mode": {
    "name": "ipython",
    "version": 3
   },
   "file_extension": ".py",
   "mimetype": "text/x-python",
   "name": "python",
   "nbconvert_exporter": "python",
   "pygments_lexer": "ipython3",
   "version": "3.9.7"
  }
 },
 "nbformat": 4,
 "nbformat_minor": 5
}
