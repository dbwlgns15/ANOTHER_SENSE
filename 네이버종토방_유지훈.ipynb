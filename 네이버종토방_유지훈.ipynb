{
 "cells": [
  {
   "cell_type": "code",
   "execution_count": 97,
   "id": "8b72899a",
   "metadata": {},
   "outputs": [],
   "source": [
    "import pandas as pd\n",
    "import numpy as np\n",
    "import requests\n",
    "import matplotlib.pyplot as plt\n",
    "import seaborn as sns\n",
    "from bs4 import BeautifulSoup\n",
    "\n",
    "import warnings\n",
    "warnings.filterwarnings('ignore')"
   ]
  },
  {
   "cell_type": "code",
   "execution_count": 113,
   "id": "a97a810b",
   "metadata": {},
   "outputs": [
    {
     "name": "stdout",
     "output_type": "stream",
     "text": [
      "100페이지 크롤링 완료\n",
      "200페이지 크롤링 완료\n",
      "300페이지 크롤링 완료\n",
      "400페이지 크롤링 완료\n",
      "500페이지 크롤링 완료\n",
      "600페이지 크롤링 완료\n",
      "700페이지 크롤링 완료\n",
      "800페이지 크롤링 완료\n",
      "900페이지 크롤링 완료\n",
      "1000페이지 크롤링 완료\n",
      "1100페이지 크롤링 완료\n",
      "1200페이지 크롤링 완료\n",
      "1300페이지 크롤링 완료\n",
      "1400페이지 크롤링 완료\n",
      "1500페이지 크롤링 완료\n",
      "1600페이지 크롤링 완료\n",
      "1700페이지 크롤링 완료\n",
      "1800페이지 크롤링 완료\n",
      "1900페이지 크롤링 완료\n",
      "2000페이지 크롤링 완료\n",
      "2100페이지 크롤링 완료\n",
      "2200페이지 크롤링 완료\n",
      "2300페이지 크롤링 완료\n",
      "2400페이지 크롤링 완료\n",
      "2500페이지 크롤링 완료\n",
      "2600페이지 크롤링 완료\n",
      "2700페이지 크롤링 완료\n",
      "2800페이지 크롤링 완료\n",
      "2900페이지 크롤링 완료\n",
      "3000페이지 크롤링 완료\n",
      "3100페이지 크롤링 완료\n",
      "3200페이지 크롤링 완료\n",
      "3300페이지 크롤링 완료\n",
      "3400페이지 크롤링 완료\n",
      "3500페이지 크롤링 완료\n",
      "3600페이지 크롤링 완료\n",
      "3700페이지 크롤링 완료\n",
      "3800페이지 크롤링 완료\n",
      "3900페이지 크롤링 완료\n",
      "4000페이지 크롤링 완료\n",
      "4100페이지 크롤링 완료\n",
      "4200페이지 크롤링 완료\n",
      "4300페이지 크롤링 완료\n",
      "4400페이지 크롤링 완료\n",
      "4500페이지 크롤링 완료\n",
      "4600페이지 크롤링 완료\n",
      "4700페이지 크롤링 완료\n",
      "4800페이지 크롤링 완료\n",
      "4900페이지 크롤링 완료\n",
      "5000페이지 크롤링 완료\n",
      "5100페이지 크롤링 완료\n",
      "5200페이지 크롤링 완료\n",
      "5300페이지 크롤링 완료\n",
      "5400페이지 크롤링 완료\n",
      "5500페이지 크롤링 완료\n",
      "5600페이지 크롤링 완료\n",
      "5700페이지 크롤링 완료\n",
      "5800페이지 크롤링 완료\n",
      "5900페이지 크롤링 완료\n",
      "6000페이지 크롤링 완료\n",
      "6100페이지 크롤링 완료\n",
      "6200페이지 크롤링 완료\n",
      "6300페이지 크롤링 완료\n",
      "6400페이지 크롤링 완료\n",
      "6500페이지 크롤링 완료\n",
      "6600페이지 크롤링 완료\n",
      "6700페이지 크롤링 완료\n",
      "6800페이지 크롤링 완료\n",
      "6900페이지 크롤링 완료\n",
      "7000페이지 크롤링 완료\n",
      "7100페이지 크롤링 완료\n",
      "7200페이지 크롤링 완료\n",
      "7300페이지 크롤링 완료\n",
      "7400페이지 크롤링 완료\n",
      "7500페이지 크롤링 완료\n"
     ]
    }
   ],
   "source": [
    "code = '035720' # 카카오 종목코드\n",
    "page = 7500 # 크롤 희망 페이지 (페이지당 20개 댓글)\n",
    "\n",
    "date_list = [] # 날짜\n",
    "comment_list = [] # 댓글\n",
    "good_list = [] # 좋아요\n",
    "bad_list = [] # 싫어요\n",
    "\n",
    "for i in range(1,page+1):\n",
    "    url = f'https://finance.naver.com/item/board.naver?code={code}&page={i}'\n",
    "    headers = {'User-Agent':'Mozilla/5.0 (Windows NT 10.0; Win64; x64) AppleWebKit/537.36 (KHTML, like Gecko) Chrome/100.0.4896.127 Safari/537.36 Edg/100.0.1185.50'}\n",
    "    res = requests.get(url, headers = headers)\n",
    "    bs = BeautifulSoup(res.text, 'html.parser')\n",
    "    \n",
    "    for j in range(20):\n",
    "        root = bs.find('div',{'class':'section inner_sub'}).find_all('tr',{'onmouseover':'mouseOver(this)'})[j].text.split('\\n')\n",
    "        \n",
    "        date_list.append(root[1].split()[0].replace('.','-'))\n",
    "        if len(root) == 13:\n",
    "            comment_list.append('답글:'+root[4])\n",
    "            good_list.append(root[11])\n",
    "            bad_list.append(root[12])\n",
    "        else:\n",
    "            comment_list.append(root[3])\n",
    "            good_list.append(root[10])\n",
    "            bad_list.append(root[11])\n",
    "    \n",
    "    if i % 100 == 0:\n",
    "        print(f'{i}페이지 크롤링 완료')\n",
    "    "
   ]
  },
  {
   "cell_type": "code",
   "execution_count": 114,
   "id": "4716ec99",
   "metadata": {},
   "outputs": [],
   "source": [
    "df = pd.DataFrame()\n",
    "df['날짜'] = date_list\n",
    "df['댓글'] = comment_list\n",
    "df['좋아요'] = good_list\n",
    "df['싫어요'] = bad_list"
   ]
  },
  {
   "cell_type": "code",
   "execution_count": 115,
   "id": "95bf5b62",
   "metadata": {},
   "outputs": [
    {
     "data": {
      "text/plain": [
       "<function matplotlib.pyplot.show(close=None, block=None)>"
      ]
     },
     "execution_count": 115,
     "metadata": {},
     "output_type": "execute_result"
    },
    {
     "data": {
      "image/png": "[encoded data removed]",
      "text/plain": [
       "<Figure size 1296x360 with 1 Axes>"
      ]
     },
     "metadata": {
      "needs_background": "light"
     },
     "output_type": "display_data"
    }
   ],
   "source": [
    "plt.figure(figsize=(18,5))\n",
    "plt.rcParams['font.family'] = 'Malgun Gothic'\n",
    "sns.countplot(df['날짜'])\n",
    "plt.show"
   ]
  },
  {
   "cell_type": "code",
   "execution_count": 122,
   "id": "0f2e547f",
   "metadata": {},
   "outputs": [
    {
     "data": {
      "text/html": [
       "<div>\n",
       "<style scoped>\n",
       "    .dataframe tbody tr th:only-of-type {\n",
       "        vertical-align: middle;\n",
       "    }\n",
       "\n",
       "    .dataframe tbody tr th {\n",
       "        vertical-align: top;\n",
       "    }\n",
       "\n",
       "    .dataframe thead th {\n",
       "        text-align: right;\n",
       "    }\n",
       "</style>\n",
       "<table border=\"1\" class=\"dataframe\">\n",
       "  <thead>\n",
       "    <tr style=\"text-align: right;\">\n",
       "      <th></th>\n",
       "      <th>날짜</th>\n",
       "      <th>댓글</th>\n",
       "      <th>좋아요</th>\n",
       "      <th>싫어요</th>\n",
       "    </tr>\n",
       "  </thead>\n",
       "  <tbody>\n",
       "    <tr>\n",
       "      <th>149995</th>\n",
       "      <td>2021-02-10</td>\n",
       "      <td>답글:\\t\\t\\t\\t</td>\n",
       "      <td>3</td>\n",
       "      <td></td>\n",
       "    </tr>\n",
       "    <tr>\n",
       "      <th>149996</th>\n",
       "      <td>2021-02-10</td>\n",
       "      <td>답글:\\t\\t\\t\\t</td>\n",
       "      <td>0</td>\n",
       "      <td></td>\n",
       "    </tr>\n",
       "    <tr>\n",
       "      <th>149997</th>\n",
       "      <td>2021-02-10</td>\n",
       "      <td>답글:\\t\\t\\t\\t</td>\n",
       "      <td>0</td>\n",
       "      <td></td>\n",
       "    </tr>\n",
       "    <tr>\n",
       "      <th>149998</th>\n",
       "      <td>2021-02-10</td>\n",
       "      <td>답글:\\t\\t\\t\\t</td>\n",
       "      <td>0</td>\n",
       "      <td></td>\n",
       "    </tr>\n",
       "    <tr>\n",
       "      <th>149999</th>\n",
       "      <td>2021-02-10</td>\n",
       "      <td>답글:\\t\\t\\t\\t</td>\n",
       "      <td>0</td>\n",
       "      <td></td>\n",
       "    </tr>\n",
       "  </tbody>\n",
       "</table>\n",
       "</div>"
      ],
      "text/plain": [
       "                날짜           댓글 좋아요 싫어요\n",
       "149995  2021-02-10  답글:\\t\\t\\t\\t   3    \n",
       "149996  2021-02-10  답글:\\t\\t\\t\\t   0    \n",
       "149997  2021-02-10  답글:\\t\\t\\t\\t   0    \n",
       "149998  2021-02-10  답글:\\t\\t\\t\\t   0    \n",
       "149999  2021-02-10  답글:\\t\\t\\t\\t   0    "
      ]
     },
     "execution_count": 122,
     "metadata": {},
     "output_type": "execute_result"
    }
   ],
   "source": [
    "df.tail() # 아 왜이래 ㅠ"
   ]
  },
  {
   "cell_type": "code",
   "execution_count": 117,
   "id": "ff3b00f4",
   "metadata": {},
   "outputs": [],
   "source": [
    "df.to_csv(\"./네이버종토방.csv\", index=False, encoding='utf-8-sig')"
   ]
  },
  {
   "cell_type": "code",
   "execution_count": 118,
   "id": "f693cf2a",
   "metadata": {},
   "outputs": [],
   "source": [
    "df.to_csv(\"./네이버종토방1.csv\", index=False)"
   ]
  },
  {
   "cell_type": "code",
   "execution_count": 119,
   "id": "290b0f7c",
   "metadata": {},
   "outputs": [],
   "source": [
    "df.to_csv(\"./네이버종토방2.csv\", index=False,encoding='cp949')"
   ]
  },
  {
   "cell_type": "code",
   "execution_count": 120,
   "id": "d999caf9",
   "metadata": {},
   "outputs": [],
   "source": [
    "df.to_csv(\"./네이버종토방3.csv\", index=False, encoding='utf-8')"
   ]
  },
  {
   "cell_type": "code",
   "execution_count": null,
   "id": "81ebd578",
   "metadata": {},
   "outputs": [],
   "source": [
    "## 아... 오류났다.. 내일 다시 크롤링해보겠습니다"
   ]
  }
 ],
 "metadata": {
  "kernelspec": {
   "display_name": "Python 3 (ipykernel)",
   "language": "python",
   "name": "python3"
  },
  "language_info": {
   "codemirror_mode": {
    "name": "ipython",
    "version": 3
   },
   "file_extension": ".py",
   "mimetype": "text/x-python",
   "name": "python",
   "nbconvert_exporter": "python",
   "pygments_lexer": "ipython3",
   "version": "3.9.7"
  }
 },
 "nbformat": 4,
 "nbformat_minor": 5
}
