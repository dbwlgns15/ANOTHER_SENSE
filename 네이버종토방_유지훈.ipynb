{
 "cells": [
  {
   "cell_type": "code",
   "execution_count": 2,
   "id": "8b72899a",
   "metadata": {},
   "outputs": [],
   "source": [
    "import pandas as pd\n",
    "import numpy as np\n",
    "import requests\n",
    "import matplotlib.pyplot as plt\n",
    "import seaborn as sns\n",
    "from bs4 import BeautifulSoup\n",
    "\n",
    "import warnings\n",
    "warnings.filterwarnings('ignore')"
   ]
  },
  {
   "cell_type": "code",
   "execution_count": null,
   "id": "a97a810b",
   "metadata": {},
   "outputs": [
    {
     "name": "stdout",
     "output_type": "stream",
     "text": [
      "100페이지 크롤링 완료\n",
      "200페이지 크롤링 완료\n",
      "300페이지 크롤링 완료\n",
      "400페이지 크롤링 완료\n",
      "500페이지 크롤링 완료\n",
      "600페이지 크롤링 완료\n",
      "700페이지 크롤링 완료\n",
      "800페이지 크롤링 완료\n",
      "900페이지 크롤링 완료\n",
      "1000페이지 크롤링 완료\n"
     ]
    }
   ],
   "source": [
    "code = '035720' # 카카오 종목코드\n",
    "page = 7500 # 크롤 희망 페이지 (페이지당 20개 댓글)\n",
    "\n",
    "date_list = [] # 날짜\n",
    "comment_list = [] # 댓글\n",
    "view_list = [] # 조회수\n",
    "good_list = [] # 좋아요\n",
    "bad_list = [] # 싫어요\n",
    "for i in range(1,page+1):\n",
    "    url = f'https://finance.naver.com/item/board.naver?code={code}&page={i}'\n",
    "    headers = {'User-Agent':'Mozilla/5.0 (Windows NT 10.0; Win64; x64) AppleWebKit/537.36 (KHTML, like Gecko) Chrome/100.0.4896.127 Safari/537.36 Edg/100.0.1185.50'}\n",
    "    res = requests.get(url, headers = headers)\n",
    "    bs = BeautifulSoup(res.text, 'html.parser')\n",
    "    \n",
    "    for j in range(20):\n",
    "        root = bs.find('div',{'class':'section inner_sub'}).find_all('tr',{'onmouseover':'mouseOver(this)'})[j].text.split('\\n')\n",
    "        \n",
    "        date_list.append(root[1].split()[0].replace('.','-'))\n",
    "        if len(root) == 14: # 답글\n",
    "            comment_list.append('답글:'+root[4])\n",
    "            view_list.append(root[10])\n",
    "            good_list.append(root[11])\n",
    "            bad_list.append(root[12])          \n",
    "        elif len(root) == 13: # 기본\n",
    "            comment_list.append(root[3])\n",
    "            view_list.append(root[9])\n",
    "            good_list.append(root[10])\n",
    "            bad_list.append(root[11])\n",
    "        else: # 에러\n",
    "            comment_list.append('error')\n",
    "            view_list.append(0)\n",
    "            good_list.append(0)\n",
    "            bad_list.append(0)       \n",
    "    \n",
    "    if i % 100 == 0:\n",
    "        print(f'{i}페이지 크롤링 완료')\n",
    "    "
   ]
  },
  {
   "cell_type": "code",
   "execution_count": 27,
   "id": "4716ec99",
   "metadata": {
    "scrolled": true
   },
   "outputs": [
    {
     "data": {
      "text/html": [
       "<div>\n",
       "<style scoped>\n",
       "    .dataframe tbody tr th:only-of-type {\n",
       "        vertical-align: middle;\n",
       "    }\n",
       "\n",
       "    .dataframe tbody tr th {\n",
       "        vertical-align: top;\n",
       "    }\n",
       "\n",
       "    .dataframe thead th {\n",
       "        text-align: right;\n",
       "    }\n",
       "</style>\n",
       "<table border=\"1\" class=\"dataframe\">\n",
       "  <thead>\n",
       "    <tr style=\"text-align: right;\">\n",
       "      <th></th>\n",
       "      <th>날짜</th>\n",
       "      <th>댓글</th>\n",
       "      <th>조회수</th>\n",
       "      <th>좋아요</th>\n",
       "      <th>싫어요</th>\n",
       "    </tr>\n",
       "  </thead>\n",
       "  <tbody>\n",
       "    <tr>\n",
       "      <th>0</th>\n",
       "      <td>2022-04-29</td>\n",
       "      <td>하방 경직성</td>\n",
       "      <td>8</td>\n",
       "      <td>1</td>\n",
       "      <td>0</td>\n",
       "    </tr>\n",
       "    <tr>\n",
       "      <th>1</th>\n",
       "      <td>2022-04-29</td>\n",
       "      <td>15만간다고 입방정떨때부터 알아봤다..</td>\n",
       "      <td>8</td>\n",
       "      <td>1</td>\n",
       "      <td>0</td>\n",
       "    </tr>\n",
       "    <tr>\n",
       "      <th>2</th>\n",
       "      <td>2022-04-29</td>\n",
       "      <td>역시 개  지  랄은 개카오..</td>\n",
       "      <td>25</td>\n",
       "      <td>2</td>\n",
       "      <td>0</td>\n",
       "    </tr>\n",
       "    <tr>\n",
       "      <th>3</th>\n",
       "      <td>2022-04-29</td>\n",
       "      <td>대폭등</td>\n",
       "      <td>27</td>\n",
       "      <td>1</td>\n",
       "      <td>1</td>\n",
       "    </tr>\n",
       "    <tr>\n",
       "      <th>4</th>\n",
       "      <td>2022-04-29</td>\n",
       "      <td>개잡주</td>\n",
       "      <td>14</td>\n",
       "      <td>0</td>\n",
       "      <td>0</td>\n",
       "    </tr>\n",
       "  </tbody>\n",
       "</table>\n",
       "</div>"
      ],
      "text/plain": [
       "           날짜                     댓글 조회수 좋아요 싫어요\n",
       "0  2022-04-29                 하방 경직성   8   1   0\n",
       "1  2022-04-29  15만간다고 입방정떨때부터 알아봤다..   8   1   0\n",
       "2  2022-04-29      역시 개  지  랄은 개카오..  25   2   0\n",
       "3  2022-04-29                    대폭등  27   1   1\n",
       "4  2022-04-29                    개잡주  14   0   0"
      ]
     },
     "execution_count": 27,
     "metadata": {},
     "output_type": "execute_result"
    }
   ],
   "source": [
    "df = pd.DataFrame()\n",
    "df['날짜'] = date_list\n",
    "df['댓글'] = comment_list\n",
    "df['조회수'] = view_list\n",
    "df['좋아요'] = good_list\n",
    "df['싫어요'] = bad_list\n",
    "df.head()"
   ]
  },
  {
   "cell_type": "code",
   "execution_count": 31,
   "id": "95bf5b62",
   "metadata": {},
   "outputs": [
    {
     "data": {
      "text/plain": [
       "<function matplotlib.pyplot.show(close=None, block=None)>"
      ]
     },
     "execution_count": 31,
     "metadata": {},
     "output_type": "execute_result"
    },
    {
     "data": {
      "image/png": "[encoded data removed]",
      "text/plain": [
       "<Figure size 1296x360 with 1 Axes>"
      ]
     },
     "metadata": {
      "needs_background": "light"
     },
     "output_type": "display_data"
    }
   ],
   "source": [
    "plt.figure(figsize=(18,5))\n",
    "plt.rcParams['font.family'] = 'Malgun Gothic'\n",
    "sns.countplot(df['날짜'])\n",
    "plt.show"
   ]
  },
  {
   "cell_type": "code",
   "execution_count": 117,
   "id": "ff3b00f4",
   "metadata": {},
   "outputs": [],
   "source": [
    "df.to_csv(\"./네이버종토방.csv\", index=False, encoding='utf-8-sig')"
   ]
  },
  {
   "cell_type": "code",
   "execution_count": 118,
   "id": "f693cf2a",
   "metadata": {},
   "outputs": [],
   "source": [
    "df.to_csv(\"./네이버종토방1.csv\", index=False)"
   ]
  },
  {
   "cell_type": "code",
   "execution_count": 119,
   "id": "290b0f7c",
   "metadata": {},
   "outputs": [],
   "source": [
    "df.to_csv(\"./네이버종토방2.csv\", index=False,encoding='cp949')"
   ]
  },
  {
   "cell_type": "code",
   "execution_count": 120,
   "id": "d999caf9",
   "metadata": {},
   "outputs": [],
   "source": [
    "df.to_csv(\"./네이버종토방3.csv\", index=False, encoding='utf-8')"
   ]
  }
 ],
 "metadata": {
  "kernelspec": {
   "display_name": "Python 3 (ipykernel)",
   "language": "python",
   "name": "python3"
  },
  "language_info": {
   "codemirror_mode": {
    "name": "ipython",
    "version": 3
   },
   "file_extension": ".py",
   "mimetype": "text/x-python",
   "name": "python",
   "nbconvert_exporter": "python",
   "pygments_lexer": "ipython3",
   "version": "3.9.7"
  }
 },
 "nbformat": 4,
 "nbformat_minor": 5
}
