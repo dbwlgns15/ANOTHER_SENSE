{
 "cells": [
  {
   "cell_type": "code",
   "execution_count": 33,
   "id": "fde6fd26",
   "metadata": {},
   "outputs": [],
   "source": [
    "import pandas as pd\n",
    "import numpy as np\n",
    "import re\n",
    "import pickle\n",
    "import requests\n",
    "from bs4 import BeautifulSoup\n",
    "from datetime import date\n",
    "from konlpy.tag import Okt\n",
    "from tensorflow.keras.preprocessing.text import Tokenizer\n",
    "from tensorflow.keras.preprocessing.sequence import pad_sequences\n",
    "from tensorflow.keras.models import load_model\n",
    "from transformers import TextClassificationPipeline\n",
    "from transformers import BertTokenizerFast\n",
    "from transformers import TFBertForSequenceClassification\n",
    "\n",
    "import warnings\n",
    "warnings.filterwarnings('ignore')"
   ]
  },
  {
   "cell_type": "code",
   "execution_count": 34,
   "id": "f5550ceb",
   "metadata": {},
   "outputs": [
    {
     "name": "stderr",
     "output_type": "stream",
     "text": [
      "Some weights of the PyTorch model were not used when initializing the TF 2.0 model TFBertForSequenceClassification: ['bert.embeddings.position_ids']\n",
      "- This IS expected if you are initializing TFBertForSequenceClassification from a PyTorch model trained on another task or with another architecture (e.g. initializing a TFBertForSequenceClassification model from a BertForPreTraining model).\n",
      "- This IS NOT expected if you are initializing TFBertForSequenceClassification from a PyTorch model that you expect to be exactly identical (e.g. initializing a TFBertForSequenceClassification model from a BertForSequenceClassification model).\n",
      "All the weights of TFBertForSequenceClassification were initialized from the PyTorch model.\n",
      "If your task is similar to the task the model of the checkpoint was trained on, you can already use TFBertForSequenceClassification for predictions without further training.\n"
     ]
    }
   ],
   "source": [
    "# LSTM 토크나이저\n",
    "with open('./src/tokenizer.pickle', 'rb') as handle:\n",
    "    tokenizer = pickle.load(handle)  \n",
    "# LSTM 모델\n",
    "model = load_model('./src/model.h5')\n",
    "# BERT 토크나이저, 모델\n",
    "loaded_tokenizer = BertTokenizerFast.from_pretrained('./src/bert', from_pt=True)\n",
    "loaded_model = TFBertForSequenceClassification.from_pretrained('./src/bert', from_pt=True)\n",
    "classifier = TextClassificationPipeline(tokenizer=loaded_tokenizer, model=loaded_model,\n",
    "                                            framework='tf', return_all_scores=True) "
   ]
  },
  {
   "cell_type": "code",
   "execution_count": 3,
   "id": "485ca0b0",
   "metadata": {},
   "outputs": [
    {
     "data": {
      "text/html": [
       "<div>\n",
       "<style scoped>\n",
       "    .dataframe tbody tr th:only-of-type {\n",
       "        vertical-align: middle;\n",
       "    }\n",
       "\n",
       "    .dataframe tbody tr th {\n",
       "        vertical-align: top;\n",
       "    }\n",
       "\n",
       "    .dataframe thead th {\n",
       "        text-align: right;\n",
       "    }\n",
       "</style>\n",
       "<table border=\"1\" class=\"dataframe\">\n",
       "  <thead>\n",
       "    <tr style=\"text-align: right;\">\n",
       "      <th></th>\n",
       "      <th>날짜</th>\n",
       "      <th>댓글</th>\n",
       "    </tr>\n",
       "  </thead>\n",
       "  <tbody>\n",
       "    <tr>\n",
       "      <th>0</th>\n",
       "      <td>2022-05-26</td>\n",
       "      <td>30 평단 언제 올까</td>\n",
       "    </tr>\n",
       "    <tr>\n",
       "      <th>1</th>\n",
       "      <td>2022-05-26</td>\n",
       "      <td>최고가에 못팔아 먹더니?</td>\n",
       "    </tr>\n",
       "    <tr>\n",
       "      <th>2</th>\n",
       "      <td>2022-05-26</td>\n",
       "      <td>내평단</td>\n",
       "    </tr>\n",
       "    <tr>\n",
       "      <th>3</th>\n",
       "      <td>2022-05-26</td>\n",
       "      <td>26년차)벌써 한장 벌고 있데이~♡</td>\n",
       "    </tr>\n",
       "    <tr>\n",
       "      <th>4</th>\n",
       "      <td>2022-05-26</td>\n",
       "      <td>잠시나마.</td>\n",
       "    </tr>\n",
       "    <tr>\n",
       "      <th>...</th>\n",
       "      <td>...</td>\n",
       "      <td>...</td>\n",
       "    </tr>\n",
       "    <tr>\n",
       "      <th>37799</th>\n",
       "      <td>2021-04-01</td>\n",
       "      <td>한투연 입니다.(공매도 제도개선, 금융적...</td>\n",
       "    </tr>\n",
       "    <tr>\n",
       "      <th>37800</th>\n",
       "      <td>2021-04-01</td>\n",
       "      <td>그냥 둘다 사</td>\n",
       "    </tr>\n",
       "    <tr>\n",
       "      <th>37801</th>\n",
       "      <td>2021-04-01</td>\n",
       "      <td>여러분 기억 앞에  겸손합시다  !</td>\n",
       "    </tr>\n",
       "    <tr>\n",
       "      <th>37802</th>\n",
       "      <td>2021-04-01</td>\n",
       "      <td>문간첩이 주주의결권 폐지한답니다</td>\n",
       "    </tr>\n",
       "    <tr>\n",
       "      <th>37803</th>\n",
       "      <td>2021-04-01</td>\n",
       "      <td>나닥 개폭등 한다...</td>\n",
       "    </tr>\n",
       "  </tbody>\n",
       "</table>\n",
       "<p>37804 rows × 2 columns</p>\n",
       "</div>"
      ],
      "text/plain": [
       "               날짜                         댓글\n",
       "0      2022-05-26                30 평단 언제 올까\n",
       "1      2022-05-26              최고가에 못팔아 먹더니?\n",
       "2      2022-05-26                        내평단\n",
       "3      2022-05-26        26년차)벌써 한장 벌고 있데이~♡\n",
       "4      2022-05-26                      잠시나마.\n",
       "...           ...                        ...\n",
       "37799  2021-04-01  한투연 입니다.(공매도 제도개선, 금융적...\n",
       "37800  2021-04-01                    그냥 둘다 사\n",
       "37801  2021-04-01        여러분 기억 앞에  겸손합시다  !\n",
       "37802  2021-04-01          문간첩이 주주의결권 폐지한답니다\n",
       "37803  2021-04-01               나닥 개폭등 한다...\n",
       "\n",
       "[37804 rows x 2 columns]"
      ]
     },
     "execution_count": 3,
     "metadata": {},
     "output_type": "execute_result"
    }
   ],
   "source": [
    "df = pd.read_csv('./src/comments_naver_year.csv')\n",
    "df"
   ]
  },
  {
   "cell_type": "code",
   "execution_count": 12,
   "id": "60422126",
   "metadata": {},
   "outputs": [],
   "source": [
    "def konlpy_okt(df):\n",
    "    okt = Okt()\n",
    "    tag_list = ['Noun','Verb','Adjective','VerbPrefix'] \n",
    "    comment_list = df['댓글'].to_list()\n",
    "    tokenized_data = []\n",
    "    for i in range(len(comment_list)):\n",
    "        tokenized_sentence = okt.pos(str(comment_list[i]), stem=True) \n",
    "        tag_checked_sentence = []\n",
    "        for j in tokenized_sentence:\n",
    "            x,y = j\n",
    "            if y in tag_list:\n",
    "                tag_checked_sentence.append(x)\n",
    "        tokenized_data.append(tag_checked_sentence)   \n",
    "        print(f'\\r{i+1}개 형태소분리중',end='')\n",
    "    for i in tokenized_data:\n",
    "        for j in range(len(i)):\n",
    "            i[j] = \"'\"+i[j]+\"'\"\n",
    "    return tokenized_data\n",
    "    \n",
    "def tokenize(df):\n",
    "    tokenized_data = konlpy_okt(df)\n",
    "    test = tokenizer.texts_to_sequences(tokenized_data)\n",
    "    test = pad_sequences(test, maxlen=15)\n",
    "    return test\n",
    "\n",
    "def feargreed_index(df): \n",
    "    test = tokenize(df)\n",
    "    pred = model.predict(test)\n",
    "    return pred"
   ]
  },
  {
   "cell_type": "code",
   "execution_count": 13,
   "id": "7f94f2b5",
   "metadata": {},
   "outputs": [
    {
     "name": "stdout",
     "output_type": "stream",
     "text": [
      "37804개 형태소분리중"
     ]
    }
   ],
   "source": [
    "df['LSTM'] = feargreed_index(df)"
   ]
  },
  {
   "cell_type": "code",
   "execution_count": 16,
   "id": "b995489b",
   "metadata": {},
   "outputs": [],
   "source": [
    "df['LSTM'] = df['LSTM'].round(4)"
   ]
  },
  {
   "cell_type": "code",
   "execution_count": 17,
   "id": "e1395e0d",
   "metadata": {},
   "outputs": [
    {
     "data": {
      "text/html": [
       "<div>\n",
       "<style scoped>\n",
       "    .dataframe tbody tr th:only-of-type {\n",
       "        vertical-align: middle;\n",
       "    }\n",
       "\n",
       "    .dataframe tbody tr th {\n",
       "        vertical-align: top;\n",
       "    }\n",
       "\n",
       "    .dataframe thead th {\n",
       "        text-align: right;\n",
       "    }\n",
       "</style>\n",
       "<table border=\"1\" class=\"dataframe\">\n",
       "  <thead>\n",
       "    <tr style=\"text-align: right;\">\n",
       "      <th></th>\n",
       "      <th>날짜</th>\n",
       "      <th>댓글</th>\n",
       "      <th>LSTM</th>\n",
       "    </tr>\n",
       "  </thead>\n",
       "  <tbody>\n",
       "    <tr>\n",
       "      <th>0</th>\n",
       "      <td>2022-05-26</td>\n",
       "      <td>30 평단 언제 올까</td>\n",
       "      <td>0.0075</td>\n",
       "    </tr>\n",
       "    <tr>\n",
       "      <th>1</th>\n",
       "      <td>2022-05-26</td>\n",
       "      <td>최고가에 못팔아 먹더니?</td>\n",
       "      <td>1.0000</td>\n",
       "    </tr>\n",
       "    <tr>\n",
       "      <th>2</th>\n",
       "      <td>2022-05-26</td>\n",
       "      <td>내평단</td>\n",
       "      <td>0.0006</td>\n",
       "    </tr>\n",
       "    <tr>\n",
       "      <th>3</th>\n",
       "      <td>2022-05-26</td>\n",
       "      <td>26년차)벌써 한장 벌고 있데이~♡</td>\n",
       "      <td>0.0012</td>\n",
       "    </tr>\n",
       "    <tr>\n",
       "      <th>4</th>\n",
       "      <td>2022-05-26</td>\n",
       "      <td>잠시나마.</td>\n",
       "      <td>0.0029</td>\n",
       "    </tr>\n",
       "    <tr>\n",
       "      <th>...</th>\n",
       "      <td>...</td>\n",
       "      <td>...</td>\n",
       "      <td>...</td>\n",
       "    </tr>\n",
       "    <tr>\n",
       "      <th>37799</th>\n",
       "      <td>2021-04-01</td>\n",
       "      <td>한투연 입니다.(공매도 제도개선, 금융적...</td>\n",
       "      <td>0.0000</td>\n",
       "    </tr>\n",
       "    <tr>\n",
       "      <th>37800</th>\n",
       "      <td>2021-04-01</td>\n",
       "      <td>그냥 둘다 사</td>\n",
       "      <td>1.0000</td>\n",
       "    </tr>\n",
       "    <tr>\n",
       "      <th>37801</th>\n",
       "      <td>2021-04-01</td>\n",
       "      <td>여러분 기억 앞에  겸손합시다  !</td>\n",
       "      <td>0.0050</td>\n",
       "    </tr>\n",
       "    <tr>\n",
       "      <th>37802</th>\n",
       "      <td>2021-04-01</td>\n",
       "      <td>문간첩이 주주의결권 폐지한답니다</td>\n",
       "      <td>0.0003</td>\n",
       "    </tr>\n",
       "    <tr>\n",
       "      <th>37803</th>\n",
       "      <td>2021-04-01</td>\n",
       "      <td>나닥 개폭등 한다...</td>\n",
       "      <td>0.5904</td>\n",
       "    </tr>\n",
       "  </tbody>\n",
       "</table>\n",
       "<p>37804 rows × 3 columns</p>\n",
       "</div>"
      ],
      "text/plain": [
       "               날짜                         댓글    LSTM\n",
       "0      2022-05-26                30 평단 언제 올까  0.0075\n",
       "1      2022-05-26              최고가에 못팔아 먹더니?  1.0000\n",
       "2      2022-05-26                        내평단  0.0006\n",
       "3      2022-05-26        26년차)벌써 한장 벌고 있데이~♡  0.0012\n",
       "4      2022-05-26                      잠시나마.  0.0029\n",
       "...           ...                        ...     ...\n",
       "37799  2021-04-01  한투연 입니다.(공매도 제도개선, 금융적...  0.0000\n",
       "37800  2021-04-01                    그냥 둘다 사  1.0000\n",
       "37801  2021-04-01        여러분 기억 앞에  겸손합시다  !  0.0050\n",
       "37802  2021-04-01          문간첩이 주주의결권 폐지한답니다  0.0003\n",
       "37803  2021-04-01               나닥 개폭등 한다...  0.5904\n",
       "\n",
       "[37804 rows x 3 columns]"
      ]
     },
     "execution_count": 17,
     "metadata": {},
     "output_type": "execute_result"
    }
   ],
   "source": [
    "df"
   ]
  },
  {
   "cell_type": "code",
   "execution_count": 26,
   "id": "2018fdf9",
   "metadata": {},
   "outputs": [],
   "source": [
    "df2 = df.groupby(df['날짜']).mean()"
   ]
  },
  {
   "cell_type": "code",
   "execution_count": 29,
   "id": "1edefa7a",
   "metadata": {},
   "outputs": [],
   "source": [
    "df2['roll'] = df2['LSTM'].rolling(7).mean()"
   ]
  },
  {
   "cell_type": "code",
   "execution_count": 32,
   "id": "6a0d616e",
   "metadata": {},
   "outputs": [
    {
     "data": {
      "text/plain": [
       "<AxesSubplot:xlabel='날짜'>"
      ]
     },
     "execution_count": 32,
     "metadata": {},
     "output_type": "execute_result"
    },
    {
     "data": {
      "image/png": "[encoded data removed]",
      "text/plain": [
       "<Figure size 432x288 with 1 Axes>"
      ]
     },
     "metadata": {
      "needs_background": "light"
     },
     "output_type": "display_data"
    }
   ],
   "source": [
    "df2['roll'].plot()"
   ]
  },
  {
   "cell_type": "code",
   "execution_count": null,
   "id": "222af65c",
   "metadata": {},
   "outputs": [],
   "source": []
  },
  {
   "cell_type": "code",
   "execution_count": null,
   "id": "37deb4e7",
   "metadata": {},
   "outputs": [],
   "source": []
  },
  {
   "cell_type": "code",
   "execution_count": 36,
   "id": "808a2ed2",
   "metadata": {},
   "outputs": [],
   "source": [
    "df = df[['날짜','댓글','LSTM']]"
   ]
  },
  {
   "cell_type": "code",
   "execution_count": 39,
   "id": "891be8e5",
   "metadata": {},
   "outputs": [
    {
     "data": {
      "text/html": [
       "<div>\n",
       "<style scoped>\n",
       "    .dataframe tbody tr th:only-of-type {\n",
       "        vertical-align: middle;\n",
       "    }\n",
       "\n",
       "    .dataframe tbody tr th {\n",
       "        vertical-align: top;\n",
       "    }\n",
       "\n",
       "    .dataframe thead th {\n",
       "        text-align: right;\n",
       "    }\n",
       "</style>\n",
       "<table border=\"1\" class=\"dataframe\">\n",
       "  <thead>\n",
       "    <tr style=\"text-align: right;\">\n",
       "      <th></th>\n",
       "      <th>날짜</th>\n",
       "      <th>댓글</th>\n",
       "      <th>LSTM</th>\n",
       "    </tr>\n",
       "  </thead>\n",
       "  <tbody>\n",
       "    <tr>\n",
       "      <th>0</th>\n",
       "      <td>2022-05-26</td>\n",
       "      <td>30 평단 언제 올까</td>\n",
       "      <td>0.0075</td>\n",
       "    </tr>\n",
       "    <tr>\n",
       "      <th>1</th>\n",
       "      <td>2022-05-26</td>\n",
       "      <td>최고가에 못팔아 먹더니?</td>\n",
       "      <td>1.0000</td>\n",
       "    </tr>\n",
       "    <tr>\n",
       "      <th>2</th>\n",
       "      <td>2022-05-26</td>\n",
       "      <td>내평단</td>\n",
       "      <td>0.0006</td>\n",
       "    </tr>\n",
       "    <tr>\n",
       "      <th>3</th>\n",
       "      <td>2022-05-26</td>\n",
       "      <td>26년차)벌써 한장 벌고 있데이~♡</td>\n",
       "      <td>0.0012</td>\n",
       "    </tr>\n",
       "    <tr>\n",
       "      <th>4</th>\n",
       "      <td>2022-05-26</td>\n",
       "      <td>잠시나마.</td>\n",
       "      <td>0.0029</td>\n",
       "    </tr>\n",
       "    <tr>\n",
       "      <th>...</th>\n",
       "      <td>...</td>\n",
       "      <td>...</td>\n",
       "      <td>...</td>\n",
       "    </tr>\n",
       "    <tr>\n",
       "      <th>1124</th>\n",
       "      <td>2022-05-19</td>\n",
       "      <td>시초가 25만원</td>\n",
       "      <td>0.0020</td>\n",
       "    </tr>\n",
       "    <tr>\n",
       "      <th>1125</th>\n",
       "      <td>2022-05-19</td>\n",
       "      <td>덕유산에서 내려 왔습니다</td>\n",
       "      <td>0.0006</td>\n",
       "    </tr>\n",
       "    <tr>\n",
       "      <th>1126</th>\n",
       "      <td>2022-05-19</td>\n",
       "      <td>수연아</td>\n",
       "      <td>0.0006</td>\n",
       "    </tr>\n",
       "    <tr>\n",
       "      <th>1127</th>\n",
       "      <td>2022-05-19</td>\n",
       "      <td>수연이 쓰</td>\n",
       "      <td>0.0001</td>\n",
       "    </tr>\n",
       "    <tr>\n",
       "      <th>1128</th>\n",
       "      <td>2022-05-19</td>\n",
       "      <td>29될때까지</td>\n",
       "      <td>0.0002</td>\n",
       "    </tr>\n",
       "  </tbody>\n",
       "</table>\n",
       "<p>1129 rows × 3 columns</p>\n",
       "</div>"
      ],
      "text/plain": [
       "              날짜                   댓글    LSTM\n",
       "0     2022-05-26          30 평단 언제 올까  0.0075\n",
       "1     2022-05-26        최고가에 못팔아 먹더니?  1.0000\n",
       "2     2022-05-26                  내평단  0.0006\n",
       "3     2022-05-26  26년차)벌써 한장 벌고 있데이~♡  0.0012\n",
       "4     2022-05-26                잠시나마.  0.0029\n",
       "...          ...                  ...     ...\n",
       "1124  2022-05-19             시초가 25만원  0.0020\n",
       "1125  2022-05-19        덕유산에서 내려 왔습니다  0.0006\n",
       "1126  2022-05-19                  수연아  0.0006\n",
       "1127  2022-05-19                수연이 쓰  0.0001\n",
       "1128  2022-05-19               29될때까지  0.0002\n",
       "\n",
       "[1129 rows x 3 columns]"
      ]
     },
     "execution_count": 39,
     "metadata": {},
     "output_type": "execute_result"
    }
   ],
   "source": [
    "df2 = df[df['날짜']>='2022-05-19']\n",
    "df2"
   ]
  },
  {
   "cell_type": "code",
   "execution_count": 41,
   "id": "4175c0d6",
   "metadata": {},
   "outputs": [
    {
     "name": "stdout",
     "output_type": "stream",
     "text": [
      "BERT 댓글1129개 분석중.."
     ]
    }
   ],
   "source": [
    "def BERT_feargreed(df):\n",
    "    raw_comment_list = df['댓글'].to_list()\n",
    "    pred_list=[]\n",
    "    for i in raw_comment_list:\n",
    "        f = classifier(i)[0][0]['score']\n",
    "        g = classifier(i)[0][1]['score']\n",
    "        if f >= g:\n",
    "            pred_list.append(1-f)\n",
    "        else:\n",
    "            pred_list.append(g)\n",
    "        print(f'\\rBERT 댓글{len(pred_list)}개 분석중..',end='')  \n",
    "    return pred_list\n",
    "df2['BERT'] = BERT_feargreed(df2)"
   ]
  },
  {
   "cell_type": "code",
   "execution_count": 42,
   "id": "55d77948",
   "metadata": {},
   "outputs": [
    {
     "data": {
      "text/html": [
       "<div>\n",
       "<style scoped>\n",
       "    .dataframe tbody tr th:only-of-type {\n",
       "        vertical-align: middle;\n",
       "    }\n",
       "\n",
       "    .dataframe tbody tr th {\n",
       "        vertical-align: top;\n",
       "    }\n",
       "\n",
       "    .dataframe thead th {\n",
       "        text-align: right;\n",
       "    }\n",
       "</style>\n",
       "<table border=\"1\" class=\"dataframe\">\n",
       "  <thead>\n",
       "    <tr style=\"text-align: right;\">\n",
       "      <th></th>\n",
       "      <th>LSTM</th>\n",
       "      <th>BERT</th>\n",
       "    </tr>\n",
       "    <tr>\n",
       "      <th>날짜</th>\n",
       "      <th></th>\n",
       "      <th></th>\n",
       "    </tr>\n",
       "  </thead>\n",
       "  <tbody>\n",
       "    <tr>\n",
       "      <th>2022-05-19</th>\n",
       "      <td>0.167612</td>\n",
       "      <td>0.350070</td>\n",
       "    </tr>\n",
       "    <tr>\n",
       "      <th>2022-05-20</th>\n",
       "      <td>0.157472</td>\n",
       "      <td>0.380217</td>\n",
       "    </tr>\n",
       "    <tr>\n",
       "      <th>2022-05-21</th>\n",
       "      <td>0.160081</td>\n",
       "      <td>0.292723</td>\n",
       "    </tr>\n",
       "    <tr>\n",
       "      <th>2022-05-22</th>\n",
       "      <td>0.046864</td>\n",
       "      <td>0.306743</td>\n",
       "    </tr>\n",
       "    <tr>\n",
       "      <th>2022-05-23</th>\n",
       "      <td>0.190069</td>\n",
       "      <td>0.434465</td>\n",
       "    </tr>\n",
       "    <tr>\n",
       "      <th>2022-05-24</th>\n",
       "      <td>0.175247</td>\n",
       "      <td>0.337712</td>\n",
       "    </tr>\n",
       "    <tr>\n",
       "      <th>2022-05-25</th>\n",
       "      <td>0.171617</td>\n",
       "      <td>0.337624</td>\n",
       "    </tr>\n",
       "    <tr>\n",
       "      <th>2022-05-26</th>\n",
       "      <td>0.131653</td>\n",
       "      <td>0.447316</td>\n",
       "    </tr>\n",
       "  </tbody>\n",
       "</table>\n",
       "</div>"
      ],
      "text/plain": [
       "                LSTM      BERT\n",
       "날짜                            \n",
       "2022-05-19  0.167612  0.350070\n",
       "2022-05-20  0.157472  0.380217\n",
       "2022-05-21  0.160081  0.292723\n",
       "2022-05-22  0.046864  0.306743\n",
       "2022-05-23  0.190069  0.434465\n",
       "2022-05-24  0.175247  0.337712\n",
       "2022-05-25  0.171617  0.337624\n",
       "2022-05-26  0.131653  0.447316"
      ]
     },
     "execution_count": 42,
     "metadata": {},
     "output_type": "execute_result"
    }
   ],
   "source": [
    "df3 = df2.groupby(df2['날짜']).mean()\n",
    "df3"
   ]
  },
  {
   "cell_type": "code",
   "execution_count": null,
   "id": "be26738c",
   "metadata": {},
   "outputs": [],
   "source": []
  }
 ],
 "metadata": {
  "kernelspec": {
   "display_name": "Python 3 (ipykernel)",
   "language": "python",
   "name": "python3"
  },
  "language_info": {
   "codemirror_mode": {
    "name": "ipython",
    "version": 3
   },
   "file_extension": ".py",
   "mimetype": "text/x-python",
   "name": "python",
   "nbconvert_exporter": "python",
   "pygments_lexer": "ipython3",
   "version": "3.9.7"
  }
 },
 "nbformat": 4,
 "nbformat_minor": 5
}
